{
 "cells": [
  {
   "cell_type": "markdown",
   "metadata": {},
   "source": [
    "### Approach1 -> Audio Processing -> XGboost and MLP Head"
   ]
  },
  {
   "cell_type": "code",
   "execution_count": 198,
   "metadata": {},
   "outputs": [],
   "source": [
    "import os\n",
    "import pandas as pd\n",
    "import numpy as np\n",
    "import matplotlib.pyplot as plt\n",
    "from tqdm import tqdm\n",
    "import torch\n",
    "import torchaudio\n",
    "import torch.nn as nn\n",
    "import torch.nn.functional as F\n",
    "from torch.optim import AdamW\n",
    "from torch.utils.data import DataLoader, TensorDataset,Dataset\n",
    "from sklearn.model_selection import train_test_split, RandomizedSearchCV\n",
    "from sklearn.metrics import mean_squared_error, mean_absolute_error\n",
    "from transformers import Wav2Vec2Processor, Wav2Vec2Model, BertTokenizer, BertModel, AutoModel, AutoTokenizer, AutoFeatureExtractor\n",
    "from xgboost import XGBRegressor\n",
    "from scipy.stats import uniform, randint\n",
    "import librosa\n",
    "import whisper\n"
   ]
  },
  {
   "cell_type": "code",
   "execution_count": 180,
   "metadata": {},
   "outputs": [],
   "source": [
    "DEVICE = torch.device(\"cuda\" if torch.cuda.is_available() else \"cpu\")\n",
    "MODEL_NAME = \"facebook/wav2vec2-base-960h\"\n",
    "SAMPLE_RATE = 16000\n",
    "TRAIN_AUDIO_DIR = \"dataset_shl/dataset/audios_train\"\n",
    "TEST_AUDIO_DIR =  \"dataset_shl/dataset/audios_test\"\n",
    "TRAIN_CSV_PATH =  \"dataset_shl/dataset/train.csv\"\n",
    "TEST_CSV_PATH =   \"dataset_shl/dataset/test.csv\"\n",
    "df_train = pd.read_csv(TRAIN_CSV_PATH)\n",
    "df_test  = pd.read_csv(TEST_CSV_PATH)"
   ]
  },
  {
   "cell_type": "code",
   "execution_count": 123,
   "metadata": {},
   "outputs": [
    {
     "name": "stderr",
     "output_type": "stream",
     "text": [
      "Some weights of Wav2Vec2Model were not initialized from the model checkpoint at facebook/wav2vec2-base-960h and are newly initialized: ['wav2vec2.masked_spec_embed']\n",
      "You should probably TRAIN this model on a down-stream task to be able to use it for predictions and inference.\n"
     ]
    }
   ],
   "source": [
    "processor = Wav2Vec2Processor.from_pretrained(MODEL_NAME)\n",
    "wav2vec_model = Wav2Vec2Model.from_pretrained(MODEL_NAME).to(DEVICE).eval()"
   ]
  },
  {
   "cell_type": "code",
   "execution_count": 129,
   "metadata": {},
   "outputs": [],
   "source": [
    "def extract_features(audio_path):\n",
    "    waveform, sr = librosa.load(audio_path , sr = SAMPLE_RATE)\n",
    "    waveform = torch.tensor(waveform).unsqueeze(0)  # shape: [1, num_samples]\n",
    "\n",
    "    input_values = processor(\n",
    "        waveform.squeeze(), \n",
    "        sampling_rate=SAMPLE_RATE, \n",
    "        return_tensors=\"pt\"\n",
    "    ).input_values.to(DEVICE)\n",
    "    \n",
    "    with torch.no_grad():\n",
    "        outputs = wav2vec_model(input_values)\n",
    "        hidden_states = outputs.last_hidden_state\n",
    "\n",
    "    pooled = hidden_states.mean(dim=1).squeeze().cpu().numpy()\n",
    "    return pooled"
   ]
  },
  {
   "cell_type": "code",
   "execution_count": 130,
   "metadata": {},
   "outputs": [
    {
     "name": "stdout",
     "output_type": "stream",
     "text": [
      "Extracting Training dataset features...\n"
     ]
    },
    {
     "name": "stderr",
     "output_type": "stream",
     "text": [
      "100%|████████████████████████████████████████████████████████████████████████████████| 444/444 [17:09<00:00,  2.32s/it]\n"
     ]
    }
   ],
   "source": [
    "# Extracting Training Dataset Features \n",
    "features = []\n",
    "labels = []\n",
    "\n",
    "print(\"Extracting Training dataset features...\")\n",
    "for i, row in tqdm(df_train.iterrows(), total=len(df_train)):\n",
    "    file_path = f\"{TRAIN_AUDIO_DIR}/{row['filename']}\"\n",
    "    try:\n",
    "        feat = extract_features(file_path)\n",
    "        features.append(feat)\n",
    "        labels.append(row[\"label\"])\n",
    "    except Exception as e:\n",
    "        print(f\"Error processing {file_path}: {e}\")\n",
    "\n",
    "X = np.stack(features)\n",
    "y = np.array(labels)"
   ]
  },
  {
   "cell_type": "code",
   "execution_count": 131,
   "metadata": {},
   "outputs": [
    {
     "data": {
      "text/plain": [
       "195"
      ]
     },
     "execution_count": 131,
     "metadata": {},
     "output_type": "execute_result"
    }
   ],
   "source": [
    "len(df_test)"
   ]
  },
  {
   "cell_type": "code",
   "execution_count": 108,
   "metadata": {
    "execution": {
     "iopub.execute_input": "2025-04-05T12:06:43.159391Z",
     "iopub.status.busy": "2025-04-05T12:06:43.159091Z",
     "iopub.status.idle": "2025-04-05T12:07:46.492125Z",
     "shell.execute_reply": "2025-04-05T12:07:46.491383Z",
     "shell.execute_reply.started": "2025-04-05T12:06:43.159365Z"
    }
   },
   "outputs": [
    {
     "name": "stdout",
     "output_type": "stream",
     "text": [
      "Extracting TEST dataset features...\n"
     ]
    },
    {
     "name": "stderr",
     "output_type": "stream",
     "text": [
      "100%|██████████| 195/195 [01:03<00:00,  3.08it/s]\n"
     ]
    }
   ],
   "source": [
    "# Extracting Test Dataset Features \n",
    "\n",
    "features = []\n",
    "print(\"Extracting TEST dataset features...\")\n",
    "for i, row in tqdm(df_test.iterrows(), total=len(df_test)):\n",
    "    file_path = os.path.join(TEST_AUDIO_DIR, row[\"filename\"])\n",
    "    try:\n",
    "        feat = extract_features(file_path)\n",
    "        features.append(feat)\n",
    "    except Exception as e:\n",
    "        print(f\"Error processing {file_path}: {e}\")\n",
    "        \n",
    "X_test = np.stack(features)\n"
   ]
  },
  {
   "cell_type": "code",
   "execution_count": 109,
   "metadata": {
    "execution": {
     "iopub.execute_input": "2025-04-05T12:07:46.493378Z",
     "iopub.status.busy": "2025-04-05T12:07:46.493089Z",
     "iopub.status.idle": "2025-04-05T12:07:46.498157Z",
     "shell.execute_reply": "2025-04-05T12:07:46.497384Z",
     "shell.execute_reply.started": "2025-04-05T12:07:46.493353Z"
    }
   },
   "outputs": [
    {
     "data": {
      "text/plain": [
       "(195, 768)"
      ]
     },
     "execution_count": 109,
     "metadata": {},
     "output_type": "execute_result"
    }
   ],
   "source": [
    "X_test.shape"
   ]
  },
  {
   "cell_type": "markdown",
   "metadata": {},
   "source": [
    "## XGBOOST regressor\n"
   ]
  },
  {
   "cell_type": "code",
   "execution_count": 135,
   "metadata": {},
   "outputs": [
    {
     "name": "stdout",
     "output_type": "stream",
     "text": [
      "Fitting 5 folds for each of 50 candidates, totalling 250 fits\n"
     ]
    }
   ],
   "source": [
    "# Define the model\n",
    "xgb = XGBRegressor(random_state=42, n_jobs=-1)\n",
    "\n",
    "# Define hyperparameter space\n",
    "param_dist = {\n",
    "    'n_estimators': randint(100, 500),\n",
    "    'learning_rate': uniform(0.01, 0.3),\n",
    "    'max_depth': randint(3, 10),\n",
    "    'subsample': uniform(0.6, 0.4),\n",
    "    'colsample_bytree': uniform(0.6, 0.4),\n",
    "    'gamma': uniform(0, 5),\n",
    "    'reg_alpha': uniform(0, 1),\n",
    "    'reg_lambda': uniform(0, 1),\n",
    "}\n",
    "\n",
    "# Perform Randomized Search with 5-fold CV\n",
    "random_search = RandomizedSearchCV(\n",
    "    estimator=xgb,\n",
    "    param_distributions=param_dist,\n",
    "    n_iter=50,\n",
    "    scoring='neg_mean_squared_error',  # or use 'r2' for R2 score\n",
    "    cv=5,\n",
    "    verbose=2,\n",
    "    random_state=42,\n",
    "    n_jobs=-1\n",
    ")\n",
    "\n",
    "X_train, X_val, y_train, y_val = train_test_split(X, y, test_size=0.2, random_state=42)\n",
    "# Fit the model\n",
    "random_search.fit(X_train, y_train)\n",
    "\n",
    "# Best model after tuning\n",
    "best_model = random_search.best_estimator_ "
   ]
  },
  {
   "cell_type": "code",
   "execution_count": 142,
   "metadata": {},
   "outputs": [
    {
     "name": "stdout",
     "output_type": "stream",
     "text": [
      "Best Hyperparameters: {'colsample_bytree': np.float64(0.8976170571996461), 'gamma': np.float64(1.254302636733306), 'learning_rate': np.float64(0.06530010229941101), 'max_depth': 8, 'n_estimators': 378, 'reg_alpha': np.float64(0.42831447494010777), 'reg_lambda': np.float64(0.6884999007653664), 'subsample': np.float64(0.6232774382033774)}\n",
      "Validation RMSE: 0.9045103837662085\n"
     ]
    }
   ],
   "source": [
    "# Evaluate on validation set\n",
    "val_preds = best_model.predict(X_val)\n",
    "val_score = root_mean_squared_error(y_val, val_preds)  # RMSE\n",
    "\n",
    "print(\"Best Hyperparameters:\", random_search.best_params_)\n",
    "print(\"Validation RMSE:\", val_score)\n",
    "torch.save(model.state_dict(), f\"best_model_xgboost.pt\")"
   ]
  },
  {
   "cell_type": "code",
   "execution_count": 47,
   "metadata": {
    "execution": {
     "iopub.execute_input": "2025-04-05T06:16:48.824753Z",
     "iopub.status.busy": "2025-04-05T06:16:48.824429Z",
     "iopub.status.idle": "2025-04-05T06:16:48.839133Z",
     "shell.execute_reply": "2025-04-05T06:16:48.838364Z",
     "shell.execute_reply.started": "2025-04-05T06:16:48.824726Z"
    }
   },
   "outputs": [
    {
     "data": {
      "text/html": [
       "<div>\n",
       "<style scoped>\n",
       "    .dataframe tbody tr th:only-of-type {\n",
       "        vertical-align: middle;\n",
       "    }\n",
       "\n",
       "    .dataframe tbody tr th {\n",
       "        vertical-align: top;\n",
       "    }\n",
       "\n",
       "    .dataframe thead th {\n",
       "        text-align: right;\n",
       "    }\n",
       "</style>\n",
       "<table border=\"1\" class=\"dataframe\">\n",
       "  <thead>\n",
       "    <tr style=\"text-align: right;\">\n",
       "      <th></th>\n",
       "      <th>filename</th>\n",
       "      <th>label</th>\n",
       "    </tr>\n",
       "  </thead>\n",
       "  <tbody>\n",
       "    <tr>\n",
       "      <th>0</th>\n",
       "      <td>audio_706.wav</td>\n",
       "      <td>2.264599</td>\n",
       "    </tr>\n",
       "    <tr>\n",
       "      <th>1</th>\n",
       "      <td>audio_800.wav</td>\n",
       "      <td>3.339555</td>\n",
       "    </tr>\n",
       "    <tr>\n",
       "      <th>2</th>\n",
       "      <td>audio_68.wav</td>\n",
       "      <td>3.814336</td>\n",
       "    </tr>\n",
       "    <tr>\n",
       "      <th>3</th>\n",
       "      <td>audio_1267.wav</td>\n",
       "      <td>3.140778</td>\n",
       "    </tr>\n",
       "    <tr>\n",
       "      <th>4</th>\n",
       "      <td>audio_683.wav</td>\n",
       "      <td>2.583885</td>\n",
       "    </tr>\n",
       "  </tbody>\n",
       "</table>\n",
       "</div>"
      ],
      "text/plain": [
       "         filename     label\n",
       "0   audio_706.wav  2.264599\n",
       "1   audio_800.wav  3.339555\n",
       "2    audio_68.wav  3.814336\n",
       "3  audio_1267.wav  3.140778\n",
       "4   audio_683.wav  2.583885"
      ]
     },
     "execution_count": 47,
     "metadata": {},
     "output_type": "execute_result"
    }
   ],
   "source": [
    "test_preds = model_1.predict(X_test)\n",
    "df_test_preds = pd.DataFrame()\n",
    "df_test_preds[\"filename\"] = df_test['filename']\n",
    "df_test_preds['label'] = test_preds\n",
    "\n",
    "df_test_preds.head()\n"
   ]
  },
  {
   "cell_type": "code",
   "execution_count": 48,
   "metadata": {
    "execution": {
     "iopub.execute_input": "2025-04-05T06:16:51.817867Z",
     "iopub.status.busy": "2025-04-05T06:16:51.817579Z",
     "iopub.status.idle": "2025-04-05T06:16:51.823551Z",
     "shell.execute_reply": "2025-04-05T06:16:51.822637Z",
     "shell.execute_reply.started": "2025-04-05T06:16:51.817842Z"
    }
   },
   "outputs": [],
   "source": [
    "df_test_preds.to_csv(\"sub.csv\",index = False)"
   ]
  },
  {
   "cell_type": "markdown",
   "metadata": {},
   "source": [
    "## DEEP MLP REGRESSOR"
   ]
  },
  {
   "cell_type": "code",
   "execution_count": 145,
   "metadata": {},
   "outputs": [],
   "source": [
    "class MLPRegressor(nn.Module):\n",
    "    def __init__(self, input_dim):\n",
    "        super(MLPRegressor, self).__init__()\n",
    "\n",
    "        self.model = nn.Sequential(\n",
    "            nn.Linear(input_dim, 512),\n",
    "            nn.BatchNorm1d(512),\n",
    "            nn.ReLU(),\n",
    "            nn.Dropout(0.4),\n",
    "\n",
    "            nn.Linear(512, 256),\n",
    "            nn.BatchNorm1d(256),\n",
    "            nn.ReLU(),\n",
    "            nn.Dropout(0.3),\n",
    "\n",
    "            nn.Linear(256, 128),\n",
    "            nn.BatchNorm1d(128),\n",
    "            nn.ReLU(),\n",
    "            nn.Dropout(0.2),\n",
    "\n",
    "            nn.Linear(128, 64),\n",
    "            nn.ReLU(),\n",
    "\n",
    "            nn.Linear(64, 1)  # Final regression output\n",
    "        )\n",
    "\n",
    "    def forward(self, x):\n",
    "        return self.model(x)"
   ]
  },
  {
   "cell_type": "code",
   "execution_count": 150,
   "metadata": {
    "scrolled": true
   },
   "outputs": [],
   "source": [
    "\n",
    "def train_model(model, X_train, y_train, X_val, y_val, epochs=500, batch_size=32, lr=1e-4, patience=5):\n",
    "    # Prepare data\n",
    "    train_dataset = TensorDataset(torch.tensor(X_train, dtype=torch.float32),\n",
    "                                  torch.tensor(y_train, dtype=torch.float32).unsqueeze(1))\n",
    "    val_dataset = TensorDataset(torch.tensor(X_val, dtype=torch.float32),\n",
    "                                torch.tensor(y_val, dtype=torch.float32).unsqueeze(1))\n",
    "\n",
    "    train_loader = DataLoader(train_dataset,\n",
    "                              batch_size=batch_size,\n",
    "                              shuffle=True)\n",
    "    val_loader = DataLoader(val_dataset,\n",
    "                            batch_size=batch_size)\n",
    "\n",
    "    # Loss & optimizer\n",
    "    criterion = torch.nn.MSELoss()\n",
    "    optimizer = torch.optim.Adam(model.parameters(), lr=lr)\n",
    "\n",
    "    best_val_loss = float('inf')\n",
    "    patience_counter = 0\n",
    "\n",
    "    for epoch in range(epochs):\n",
    "        model.train()\n",
    "        train_losses = []\n",
    "\n",
    "        for X_batch, y_batch in train_loader:\n",
    "            X_batch, y_batch = X_batch.to(DEVICE), y_batch.to(DEVICE)\n",
    "\n",
    "            optimizer.zero_grad()\n",
    "            outputs = model(X_batch)\n",
    "            loss = criterion(outputs, y_batch)\n",
    "            loss.backward()\n",
    "            optimizer.step()\n",
    "\n",
    "            train_losses.append(loss.item())\n",
    "\n",
    "        # Validation phase\n",
    "        model.eval()\n",
    "        val_losses = []\n",
    "        preds = []\n",
    "        actuals = []\n",
    "\n",
    "        with torch.no_grad():\n",
    "            for X_batch, y_batch in val_loader:\n",
    "                X_batch, y_batch = X_batch.to(DEVICE), y_batch.to(DEVICE)\n",
    "                outputs = model(X_batch)\n",
    "                loss = criterion(outputs, y_batch)\n",
    "                val_losses.append(loss.item())\n",
    "\n",
    "                preds.extend(outputs.squeeze().cpu().numpy())\n",
    "                actuals.extend(y_batch.squeeze().cpu().numpy())\n",
    "\n",
    "        avg_train_loss = sum(train_losses) / len(train_losses)\n",
    "        avg_val_loss = sum(val_losses) / len(val_losses)\n",
    "        rmse = np.sqrt(mean_squared_error(actuals, preds))\n",
    "        if((epoch+1)%10 == 0):\n",
    "            print(f\"Epoch {epoch+1}/{epochs} | Train Loss: {avg_train_loss:.4f} | Val Loss: {avg_val_loss:.4f} | Val RMSE: {rmse:.4f}\")\n",
    "\n",
    "        # Early stopping\n",
    "        if avg_val_loss < best_val_loss:\n",
    "            best_val_loss = avg_val_loss\n",
    "            patience_counter = 0\n",
    "            torch.save(model.state_dict(), \"best_model_Bert_plus_MLP.pt\")  # Save best model\n",
    "        else:\n",
    "            patience_counter += 1\n",
    "            if patience_counter >= patience:\n",
    "                print(\"Early stopping!\")\n",
    "                break\n",
    "\n",
    "    # Load best model before returning\n",
    "    model.load_state_dict(torch.load(\"best_model_Bert_plus_MLP.pt\"))\n",
    "    return model"
   ]
  },
  {
   "cell_type": "code",
   "execution_count": 151,
   "metadata": {
    "scrolled": true
   },
   "outputs": [
    {
     "name": "stdout",
     "output_type": "stream",
     "text": [
      "Epoch 10/500 | Train Loss: 5.6875 | Val Loss: 7.2051 | Val RMSE: 2.6986\n",
      "Epoch 20/500 | Train Loss: 1.2488 | Val Loss: 2.1421 | Val RMSE: 1.4854\n",
      "Epoch 30/500 | Train Loss: 0.7752 | Val Loss: 1.3711 | Val RMSE: 1.1871\n",
      "Epoch 40/500 | Train Loss: 0.7362 | Val Loss: 1.2589 | Val RMSE: 1.1335\n",
      "Epoch 50/500 | Train Loss: 0.6708 | Val Loss: 1.3590 | Val RMSE: 1.1740\n",
      "Early stopping!\n"
     ]
    },
    {
     "name": "stderr",
     "output_type": "stream",
     "text": [
      "C:\\Users\\syedd\\AppData\\Local\\Temp\\ipykernel_75124\\2495675284.py:70: FutureWarning: You are using `torch.load` with `weights_only=False` (the current default value), which uses the default pickle module implicitly. It is possible to construct malicious pickle data which will execute arbitrary code during unpickling (See https://github.com/pytorch/pytorch/blob/main/SECURITY.md#untrusted-models for more details). In a future release, the default value for `weights_only` will be flipped to `True`. This limits the functions that could be executed during unpickling. Arbitrary objects will no longer be allowed to be loaded via this mode unless they are explicitly allowlisted by the user via `torch.serialization.add_safe_globals`. We recommend you start setting `weights_only=True` for any use case where you don't have full control of the loaded file. Please open an issue on GitHub for any issues related to this experimental feature.\n",
      "  model.load_state_dict(torch.load(\"best_model_Bert_plus_MLP.pt\"))\n"
     ]
    }
   ],
   "source": [
    "model = MLPRegressor(input_dim=X_train.shape[1]).to(DEVICE)\n",
    "trained_model = train_model(model, X_train, y_train, X_val, y_val)"
   ]
  },
  {
   "cell_type": "code",
   "execution_count": 152,
   "metadata": {},
   "outputs": [],
   "source": [
    "def predict(model, X_test, batch_size=32):\n",
    "    model.eval()\n",
    "    test_dataset = torch.tensor(X_test, dtype=torch.float32)\n",
    "    test_loader = torch.utils.data.DataLoader(test_dataset, batch_size=batch_size)\n",
    "    predictions = []\n",
    "    with torch.no_grad():\n",
    "        for X_batch in test_loader:\n",
    "            X_batch = X_batch.to(DEVICE)\n",
    "            outputs = model(X_batch)\n",
    "            predictions.extend(outputs.squeeze().cpu().numpy())\n",
    "\n",
    "    return predictions"
   ]
  },
  {
   "cell_type": "code",
   "execution_count": 38,
   "metadata": {
    "execution": {
     "iopub.execute_input": "2025-04-05T06:35:08.423196Z",
     "iopub.status.busy": "2025-04-05T06:35:08.422909Z",
     "iopub.status.idle": "2025-04-05T06:35:08.437417Z",
     "shell.execute_reply": "2025-04-05T06:35:08.436525Z",
     "shell.execute_reply.started": "2025-04-05T06:35:08.423174Z"
    }
   },
   "outputs": [],
   "source": [
    "# Predict on X_test\n",
    "test_preds = predict(trained_model, X_test)\n",
    "\n",
    "# Create submission file (example)\n",
    "df_test_preds = pd.DataFrame({\n",
    "    \"filename\": df_test[\"filename\"],  # Make sure df_test has this column\n",
    "    \"label\": test_preds\n",
    "})\n",
    "\n",
    "# Save to CSV\n",
    "df_test_preds.to_csv(\"submission2.csv\", index=False)"
   ]
  },
  {
   "cell_type": "markdown",
   "metadata": {},
   "source": [
    "## Approach 2 -> Consider Audio Waveform as input."
   ]
  },
  {
   "cell_type": "code",
   "execution_count": 184,
   "metadata": {},
   "outputs": [
    {
     "name": "stderr",
     "output_type": "stream",
     "text": [
      "C:\\Users\\syedd\\miniconda3\\envs\\hmenv3\\Lib\\site-packages\\whisper\\__init__.py:150: FutureWarning: You are using `torch.load` with `weights_only=False` (the current default value), which uses the default pickle module implicitly. It is possible to construct malicious pickle data which will execute arbitrary code during unpickling (See https://github.com/pytorch/pytorch/blob/main/SECURITY.md#untrusted-models for more details). In a future release, the default value for `weights_only` will be flipped to `True`. This limits the functions that could be executed during unpickling. Arbitrary objects will no longer be allowed to be loaded via this mode unless they are explicitly allowlisted by the user via `torch.serialization.add_safe_globals`. We recommend you start setting `weights_only=True` for any use case where you don't have full control of the loaded file. Please open an issue on GitHub for any issues related to this experimental feature.\n",
      "  checkpoint = torch.load(fp, map_location=device)\n"
     ]
    }
   ],
   "source": [
    "model_whisper = whisper.load_model(\"base\")\n",
    "model_whisper = model_whisper.to(DEVICE)\n",
    "def transcribe_audio(file_path):\n",
    "    try:\n",
    "        result = model_whisper.to(DEVICE).transcribe(file_path)\n",
    "        return result[\"text\"]\n",
    "    except Exception as e:\n",
    "        print(f\"Error transcribing {file_path}: {e}\")\n",
    "        return \"\""
   ]
  },
  {
   "cell_type": "code",
   "execution_count": 187,
   "metadata": {},
   "outputs": [],
   "source": [
    "file_path = f'{TRAIN_AUDIO_DIR}/{df_train.iloc[20][\"filename\"]}'\n",
    "transcript = transcribe_audio(file_path)"
   ]
  },
  {
   "cell_type": "markdown",
   "metadata": {},
   "source": [
    "#### # Pre_Extract the transcripts and save them.\n"
   ]
  },
  {
   "cell_type": "code",
   "execution_count": 188,
   "metadata": {},
   "outputs": [],
   "source": [
    "transcripts_train = []\n",
    "print(\"Extracting Train dataset Transcripts...\")\n",
    "for i, row in tqdm(df_train.iterrows(), total=len(df_train)):\n",
    "    file_path = f'{TRAIN_AUDIO_DIR}/{row[\"filename\"]}'\n",
    "    try:\n",
    "        transcript = transcribe_audio(file_path, DEVICE)\n",
    "        transcripts_train.append(transcript)\n",
    "    except Exception as e:\n",
    "        print(f\"Error processing {file_path}: {e}\")\n",
    "        \n"
   ]
  },
  {
   "cell_type": "code",
   "execution_count": 189,
   "metadata": {},
   "outputs": [],
   "source": [
    "df_test = pd.read_csv(TEST_CSV_PATH)\n",
    "transcripts_test = []\n",
    "print(\"Extracting Train dataset Transcripts...\")\n",
    "for i, row in tqdm(df_test.iterrows(), total=len(df_test)):\n",
    "    file_path = os.path.join(TEST_AUDIO_DIR, row[\"filename\"])\n",
    "    try:\n",
    "        transcript = transcribe_audio(file_path,DEVICE)\n",
    "        transcripts.append(transcript)\n",
    "    except Exception as e:\n",
    "        print(f\"Error processing {file_path}: {e}\")"
   ]
  },
  {
   "cell_type": "code",
   "execution_count": null,
   "metadata": {},
   "outputs": [],
   "source": [
    "df_train_transcript = pd.DataFrame() \n",
    "df_train_transcript['text'] = transcripts_train\n",
    "df_train_transcript['label'] = df_train['label']\n",
    "df_train_transcript['filename'] = df_train['filename']\n",
    "df_train_transcript.head()\n"
   ]
  },
  {
   "cell_type": "code",
   "execution_count": null,
   "metadata": {},
   "outputs": [],
   "source": [
    "df_test_transcript = pd.DataFrame() \n",
    "df_test_transcript['text'] = transcripts\n",
    "df_test_transcript['filename'] = df_test['filename']\n",
    "df_test_transcript.head()"
   ]
  },
  {
   "cell_type": "code",
   "execution_count": null,
   "metadata": {},
   "outputs": [],
   "source": [
    "df_train_transcript.to_csv(\"train_transcript.csv\",index = False)\n",
    "df_test_transcript.to_csv(\"test_transcript.csv\",index = False)"
   ]
  },
  {
   "cell_type": "markdown",
   "metadata": {},
   "source": [
    "#### Transcripted Dataset Class"
   ]
  },
  {
   "cell_type": "code",
   "execution_count": 191,
   "metadata": {},
   "outputs": [],
   "source": [
    "class TranscriptDataset(Dataset):\n",
    "    def __init__(self , df , tokenizer,max_len = 128,training = True):\n",
    "        self.texts = df[\"text\"].tolist()\n",
    "        self.texts = [str(t) if pd.notna(t) else \"\" for t in self.texts]  # Ensures string input\n",
    "\n",
    "        if training:\n",
    "            self.labels = df[\"label\"].tolist()\n",
    "        self.tokenizer= tokenizer\n",
    "        self.max_len = max_len\n",
    "        self.training = training\n",
    "\n",
    "    def __len__(self):\n",
    "        return len(self.texts)\n",
    "\n",
    "    def __getitem__(self,idx):\n",
    "        encodings = self.tokenizer(\n",
    "            self.texts[idx],\n",
    "            truncation=True,\n",
    "            padding='max_length',\n",
    "            max_length=self.max_len,\n",
    "            return_tensors=\"pt\"\n",
    "        )\n",
    "        input_ids = encodings[\"input_ids\"].squeeze(0)\n",
    "        attention_mask = encodings[\"attention_mask\"].squeeze(0)\n",
    "        if (self.training == True):\n",
    "            label = torch.tensor(self.labels[idx], dtype=torch.float)\n",
    "\n",
    "            return {\n",
    "            \"input_ids\": input_ids,\n",
    "            \"attention_mask\": attention_mask,\n",
    "            \"label\": label\n",
    "            }\n",
    "        else:\n",
    "            return {\n",
    "            \"input_ids\": input_ids,\n",
    "            \"attention_mask\": attention_mask\n",
    "            }\n",
    "            "
   ]
  },
  {
   "cell_type": "code",
   "execution_count": 192,
   "metadata": {},
   "outputs": [],
   "source": [
    "class BERTRegression(nn.Module):\n",
    "    def __init__(self, dropout=0.3):\n",
    "        super().__init__()\n",
    "        self.bert = BertModel.from_pretrained(\"bert-base-uncased\")\n",
    "        self.regressor = nn.Sequential(\n",
    "            nn.Dropout(dropout),\n",
    "            nn.Linear(self.bert.config.hidden_size, 256),\n",
    "            nn.ReLU(),\n",
    "            nn.Dropout(dropout),\n",
    "            nn.Linear(256, 64),\n",
    "            nn.ReLU(),\n",
    "            nn.Linear(64, 1)\n",
    "        )\n",
    "\n",
    "    def forward(self, input_ids, attention_mask):\n",
    "        outputs = self.bert(input_ids=input_ids, attention_mask=attention_mask)\n",
    "        pooled = outputs.pooler_output  # [CLS] token representation\n",
    "        raw_output = self.regressor(pooled).squeeze(1)\n",
    "        scaled_output = 5 * torch.sigmoid(raw_output)  # Constrain to [0, 5]\n",
    "        return scaled_output"
   ]
  },
  {
   "cell_type": "code",
   "execution_count": 193,
   "metadata": {},
   "outputs": [],
   "source": [
    "def train_epoch(model, loader, optimizer, criterion):\n",
    "    model.train()\n",
    "    total_loss = 0\n",
    "    for batch in (loader):\n",
    "        input_ids = batch[\"input_ids\"].to(DEVICE)\n",
    "        attention_mask = batch[\"attention_mask\"].to(DEVICE)\n",
    "        labels = batch[\"label\"].to(DEVICE)\n",
    "\n",
    "        optimizer.zero_grad()\n",
    "        outputs = model(input_ids, attention_mask)\n",
    "        loss = criterion(outputs, labels)\n",
    "        loss.backward()\n",
    "        optimizer.step()\n",
    "\n",
    "        total_loss += loss.item()\n",
    "    return total_loss / len(loader)\n",
    "\n",
    "def eval_epoch(model, loader, criterion):\n",
    "    model.eval()\n",
    "    total_loss = 0\n",
    "    preds, actuals = [], []\n",
    "    with torch.no_grad():\n",
    "        for batch in (loader):\n",
    "            input_ids = batch[\"input_ids\"].to(DEVICE)\n",
    "            attention_mask = batch[\"attention_mask\"].to(DEVICE)\n",
    "            labels = batch[\"label\"].to(DEVICE)\n",
    "\n",
    "            outputs = model(input_ids, attention_mask)\n",
    "            loss = criterion(outputs, labels)\n",
    "\n",
    "            total_loss += loss.item()\n",
    "            preds.extend(outputs.cpu().numpy())\n",
    "            actuals.extend(labels.cpu().numpy())\n",
    "    return total_loss / len(loader), preds, actuals"
   ]
  },
  {
   "cell_type": "code",
   "execution_count": 199,
   "metadata": {},
   "outputs": [],
   "source": [
    "# Model, Loss, Optimizer\n",
    "model = BERTRegression(dropout = 0.4).to(DEVICE)\n",
    "criterion = nn.MSELoss()\n",
    "optimizer = AdamW(model.parameters(), lr=2e-5)\n",
    "BATCH_SIZE = 16\n"
   ]
  },
  {
   "cell_type": "code",
   "execution_count": 194,
   "metadata": {},
   "outputs": [],
   "source": [
    "# Load data\n",
    "df_train_transcript = pd.read_csv(\"dataset_shl/dataset/train_transcript.csv\")\n",
    "train_df, val_df = train_test_split(df_train_transcript, test_size=0.2, random_state=42)\n",
    "\n",
    "# Tokenizer\n",
    "tokenizer = BertTokenizer.from_pretrained(\"bert-base-uncased\")\n",
    "\n",
    "# Dataset & DataLoader\n",
    "train_dataset = TranscriptDataset(train_df, tokenizer)\n",
    "val_dataset = TranscriptDataset(val_df, tokenizer)\n",
    "\n",
    "train_loader = DataLoader(train_dataset, batch_size=BATCH_SIZE, shuffle=True)\n",
    "val_loader = DataLoader(val_dataset, batch_size=BATCH_SIZE)\n"
   ]
  },
  {
   "cell_type": "code",
   "execution_count": 196,
   "metadata": {},
   "outputs": [
    {
     "name": "stderr",
     "output_type": "stream",
     "text": [
      " 10%|████████                                                                         | 10/100 [04:39<41:49, 27.89s/it]"
     ]
    },
    {
     "name": "stdout",
     "output_type": "stream",
     "text": [
      "Epoch 10 | Train Loss: 0.2371 | Val Loss: 0.6382\n"
     ]
    },
    {
     "name": "stderr",
     "output_type": "stream",
     "text": [
      " 20%|████████████████▏                                                                | 20/100 [09:17<37:02, 27.78s/it]"
     ]
    },
    {
     "name": "stdout",
     "output_type": "stream",
     "text": [
      "Epoch 20 | Train Loss: 0.1315 | Val Loss: 0.7304\n"
     ]
    },
    {
     "name": "stderr",
     "output_type": "stream",
     "text": [
      " 30%|████████████████████████▎                                                        | 30/100 [13:54<32:23, 27.76s/it]"
     ]
    },
    {
     "name": "stdout",
     "output_type": "stream",
     "text": [
      "Epoch 30 | Train Loss: 0.0588 | Val Loss: 0.7193\n"
     ]
    },
    {
     "name": "stderr",
     "output_type": "stream",
     "text": [
      " 40%|████████████████████████████████▍                                                | 40/100 [18:32<27:44, 27.75s/it]"
     ]
    },
    {
     "name": "stdout",
     "output_type": "stream",
     "text": [
      "Epoch 40 | Train Loss: 0.0515 | Val Loss: 0.7778\n"
     ]
    },
    {
     "name": "stderr",
     "output_type": "stream",
     "text": [
      " 47%|██████████████████████████████████████                                           | 47/100 [21:50<24:38, 27.89s/it]\n"
     ]
    },
    {
     "ename": "KeyboardInterrupt",
     "evalue": "",
     "output_type": "error",
     "traceback": [
      "\u001b[1;31m---------------------------------------------------------------------------\u001b[0m",
      "\u001b[1;31mKeyboardInterrupt\u001b[0m                         Traceback (most recent call last)",
      "Cell \u001b[1;32mIn[196], line 5\u001b[0m\n\u001b[0;32m      3\u001b[0m best_val_loss \u001b[38;5;241m=\u001b[39m \u001b[38;5;28mfloat\u001b[39m(\u001b[38;5;124m'\u001b[39m\u001b[38;5;124minf\u001b[39m\u001b[38;5;124m'\u001b[39m)\n\u001b[0;32m      4\u001b[0m \u001b[38;5;28;01mfor\u001b[39;00m epoch \u001b[38;5;129;01min\u001b[39;00m tqdm(\u001b[38;5;28mrange\u001b[39m(epochs)):\n\u001b[1;32m----> 5\u001b[0m     train_loss \u001b[38;5;241m=\u001b[39m \u001b[43mtrain_epoch\u001b[49m\u001b[43m(\u001b[49m\u001b[43mmodel\u001b[49m\u001b[43m,\u001b[49m\u001b[43m \u001b[49m\u001b[43mtrain_loader\u001b[49m\u001b[43m,\u001b[49m\u001b[43m \u001b[49m\u001b[43moptimizer\u001b[49m\u001b[43m,\u001b[49m\u001b[43m \u001b[49m\u001b[43mcriterion\u001b[49m\u001b[43m)\u001b[49m\n\u001b[0;32m      6\u001b[0m     val_loss, preds, labels \u001b[38;5;241m=\u001b[39m eval_epoch(model, val_loader, criterion)\n\u001b[0;32m      7\u001b[0m     \u001b[38;5;28;01mif\u001b[39;00m (val_loss \u001b[38;5;241m<\u001b[39m best_val_loss):\n",
      "Cell \u001b[1;32mIn[193], line 13\u001b[0m, in \u001b[0;36mtrain_epoch\u001b[1;34m(model, loader, optimizer, criterion)\u001b[0m\n\u001b[0;32m     11\u001b[0m     loss \u001b[38;5;241m=\u001b[39m criterion(outputs, labels)\n\u001b[0;32m     12\u001b[0m     loss\u001b[38;5;241m.\u001b[39mbackward()\n\u001b[1;32m---> 13\u001b[0m     \u001b[43moptimizer\u001b[49m\u001b[38;5;241;43m.\u001b[39;49m\u001b[43mstep\u001b[49m\u001b[43m(\u001b[49m\u001b[43m)\u001b[49m\n\u001b[0;32m     15\u001b[0m     total_loss \u001b[38;5;241m+\u001b[39m\u001b[38;5;241m=\u001b[39m loss\u001b[38;5;241m.\u001b[39mitem()\n\u001b[0;32m     16\u001b[0m \u001b[38;5;28;01mreturn\u001b[39;00m total_loss \u001b[38;5;241m/\u001b[39m \u001b[38;5;28mlen\u001b[39m(loader)\n",
      "File \u001b[1;32m~\\miniconda3\\envs\\hmenv3\\Lib\\site-packages\\torch\\optim\\optimizer.py:487\u001b[0m, in \u001b[0;36mOptimizer.profile_hook_step.<locals>.wrapper\u001b[1;34m(*args, **kwargs)\u001b[0m\n\u001b[0;32m    482\u001b[0m         \u001b[38;5;28;01melse\u001b[39;00m:\n\u001b[0;32m    483\u001b[0m             \u001b[38;5;28;01mraise\u001b[39;00m \u001b[38;5;167;01mRuntimeError\u001b[39;00m(\n\u001b[0;32m    484\u001b[0m                 \u001b[38;5;124mf\u001b[39m\u001b[38;5;124m\"\u001b[39m\u001b[38;5;132;01m{\u001b[39;00mfunc\u001b[38;5;132;01m}\u001b[39;00m\u001b[38;5;124m must return None or a tuple of (new_args, new_kwargs), but got \u001b[39m\u001b[38;5;132;01m{\u001b[39;00mresult\u001b[38;5;132;01m}\u001b[39;00m\u001b[38;5;124m.\u001b[39m\u001b[38;5;124m\"\u001b[39m\n\u001b[0;32m    485\u001b[0m             )\n\u001b[1;32m--> 487\u001b[0m out \u001b[38;5;241m=\u001b[39m \u001b[43mfunc\u001b[49m\u001b[43m(\u001b[49m\u001b[38;5;241;43m*\u001b[39;49m\u001b[43margs\u001b[49m\u001b[43m,\u001b[49m\u001b[43m \u001b[49m\u001b[38;5;241;43m*\u001b[39;49m\u001b[38;5;241;43m*\u001b[39;49m\u001b[43mkwargs\u001b[49m\u001b[43m)\u001b[49m\n\u001b[0;32m    488\u001b[0m \u001b[38;5;28mself\u001b[39m\u001b[38;5;241m.\u001b[39m_optimizer_step_code()\n\u001b[0;32m    490\u001b[0m \u001b[38;5;66;03m# call optimizer step post hooks\u001b[39;00m\n",
      "File \u001b[1;32m~\\miniconda3\\envs\\hmenv3\\Lib\\site-packages\\torch\\utils\\_contextlib.py:116\u001b[0m, in \u001b[0;36mcontext_decorator.<locals>.decorate_context\u001b[1;34m(*args, **kwargs)\u001b[0m\n\u001b[0;32m    113\u001b[0m \u001b[38;5;129m@functools\u001b[39m\u001b[38;5;241m.\u001b[39mwraps(func)\n\u001b[0;32m    114\u001b[0m \u001b[38;5;28;01mdef\u001b[39;00m\u001b[38;5;250m \u001b[39m\u001b[38;5;21mdecorate_context\u001b[39m(\u001b[38;5;241m*\u001b[39margs, \u001b[38;5;241m*\u001b[39m\u001b[38;5;241m*\u001b[39mkwargs):\n\u001b[0;32m    115\u001b[0m     \u001b[38;5;28;01mwith\u001b[39;00m ctx_factory():\n\u001b[1;32m--> 116\u001b[0m         \u001b[38;5;28;01mreturn\u001b[39;00m \u001b[43mfunc\u001b[49m\u001b[43m(\u001b[49m\u001b[38;5;241;43m*\u001b[39;49m\u001b[43margs\u001b[49m\u001b[43m,\u001b[49m\u001b[43m \u001b[49m\u001b[38;5;241;43m*\u001b[39;49m\u001b[38;5;241;43m*\u001b[39;49m\u001b[43mkwargs\u001b[49m\u001b[43m)\u001b[49m\n",
      "File \u001b[1;32m~\\miniconda3\\envs\\hmenv3\\Lib\\site-packages\\transformers\\optimization.py:695\u001b[0m, in \u001b[0;36mAdamW.step\u001b[1;34m(self, closure)\u001b[0m\n\u001b[0;32m    691\u001b[0m state[\u001b[38;5;124m\"\u001b[39m\u001b[38;5;124mstep\u001b[39m\u001b[38;5;124m\"\u001b[39m] \u001b[38;5;241m+\u001b[39m\u001b[38;5;241m=\u001b[39m \u001b[38;5;241m1\u001b[39m\n\u001b[0;32m    693\u001b[0m \u001b[38;5;66;03m# Decay the first and second moment running average coefficient\u001b[39;00m\n\u001b[0;32m    694\u001b[0m \u001b[38;5;66;03m# In-place operations to update the averages at the same time\u001b[39;00m\n\u001b[1;32m--> 695\u001b[0m \u001b[43mexp_avg\u001b[49m\u001b[38;5;241;43m.\u001b[39;49m\u001b[43mmul_\u001b[49m\u001b[43m(\u001b[49m\u001b[43mbeta1\u001b[49m\u001b[43m)\u001b[49m\u001b[38;5;241m.\u001b[39madd_(grad, alpha\u001b[38;5;241m=\u001b[39m(\u001b[38;5;241m1.0\u001b[39m \u001b[38;5;241m-\u001b[39m beta1))\n\u001b[0;32m    696\u001b[0m exp_avg_sq\u001b[38;5;241m.\u001b[39mmul_(beta2)\u001b[38;5;241m.\u001b[39maddcmul_(grad, grad, value\u001b[38;5;241m=\u001b[39m\u001b[38;5;241m1.0\u001b[39m \u001b[38;5;241m-\u001b[39m beta2)\n\u001b[0;32m    697\u001b[0m denom \u001b[38;5;241m=\u001b[39m exp_avg_sq\u001b[38;5;241m.\u001b[39msqrt()\u001b[38;5;241m.\u001b[39madd_(group[\u001b[38;5;124m\"\u001b[39m\u001b[38;5;124meps\u001b[39m\u001b[38;5;124m\"\u001b[39m])\n",
      "\u001b[1;31mKeyboardInterrupt\u001b[0m: "
     ]
    }
   ],
   "source": [
    "# Training Loop\n",
    "epochs = 100\n",
    "best_val_loss = float('inf')\n",
    "for epoch in tqdm(range(epochs)):\n",
    "    train_loss = train_epoch(model, train_loader, optimizer, criterion)\n",
    "    val_loss, preds, labels = eval_epoch(model, val_loader, criterion)\n",
    "    if (val_loss < best_val_loss):\n",
    "        torch.save(model.state_dict(), \"bert_MLP_regressor.pt\")\n",
    "        best_val_loss = val_loss\n",
    "    if((epoch+1)%10==0):\n",
    "        print(f\"Epoch {epoch+1} | Train Loss: {train_loss:.4f} | Val Loss: {val_loss:.4f}\")"
   ]
  },
  {
   "cell_type": "code",
   "execution_count": 200,
   "metadata": {},
   "outputs": [],
   "source": [
    "df_test_transcript = pd.read_csv(\"dataset_shl/dataset/test_transcript.csv\")\n",
    "test_dataset = TranscriptDataset(df_test_transcript, tokenizer, training = False)\n",
    "test_loader = DataLoader(test_dataset, batch_size=BATCH_SIZE)"
   ]
  },
  {
   "cell_type": "code",
   "execution_count": 201,
   "metadata": {},
   "outputs": [],
   "source": [
    "def predict(model, test_loader):\n",
    "    model.eval()\n",
    "    predictions = []\n",
    "    with torch.no_grad():\n",
    "        for batch in tqdm(test_loader, desc=\"Predicting\"):\n",
    "            input_ids = batch['input_ids'].to(DEVICE)\n",
    "            attention_mask = batch['attention_mask'].to(DEVICE)\n",
    "            outputs = model(input_ids, attention_mask)\n",
    "            predictions.extend(outputs.cpu().numpy())\n",
    "\n",
    "    return predictions\n"
   ]
  },
  {
   "cell_type": "code",
   "execution_count": 202,
   "metadata": {},
   "outputs": [
    {
     "name": "stderr",
     "output_type": "stream",
     "text": [
      "C:\\Users\\syedd\\AppData\\Local\\Temp\\ipykernel_75124\\4055783567.py:1: FutureWarning: You are using `torch.load` with `weights_only=False` (the current default value), which uses the default pickle module implicitly. It is possible to construct malicious pickle data which will execute arbitrary code during unpickling (See https://github.com/pytorch/pytorch/blob/main/SECURITY.md#untrusted-models for more details). In a future release, the default value for `weights_only` will be flipped to `True`. This limits the functions that could be executed during unpickling. Arbitrary objects will no longer be allowed to be loaded via this mode unless they are explicitly allowlisted by the user via `torch.serialization.add_safe_globals`. We recommend you start setting `weights_only=True` for any use case where you don't have full control of the loaded file. Please open an issue on GitHub for any issues related to this experimental feature.\n",
      "  model.load_state_dict(torch.load(\"bert_MLP_regressor.pt\"))\n",
      "Predicting: 100%|██████████████████████████████████████████████████████████████████████| 13/13 [00:11<00:00,  1.15it/s]\n"
     ]
    }
   ],
   "source": [
    "model.load_state_dict(torch.load(\"bert_MLP_regressor.pt\"))\n",
    "predictions = predict(model, test_loader)"
   ]
  },
  {
   "cell_type": "code",
   "execution_count": 203,
   "metadata": {},
   "outputs": [
    {
     "data": {
      "text/plain": [
       "195"
      ]
     },
     "execution_count": 203,
     "metadata": {},
     "output_type": "execute_result"
    }
   ],
   "source": [
    "len(predictions)"
   ]
  },
  {
   "cell_type": "code",
   "execution_count": 204,
   "metadata": {},
   "outputs": [
    {
     "data": {
      "text/html": [
       "<div>\n",
       "<style scoped>\n",
       "    .dataframe tbody tr th:only-of-type {\n",
       "        vertical-align: middle;\n",
       "    }\n",
       "\n",
       "    .dataframe tbody tr th {\n",
       "        vertical-align: top;\n",
       "    }\n",
       "\n",
       "    .dataframe thead th {\n",
       "        text-align: right;\n",
       "    }\n",
       "</style>\n",
       "<table border=\"1\" class=\"dataframe\">\n",
       "  <thead>\n",
       "    <tr style=\"text-align: right;\">\n",
       "      <th></th>\n",
       "      <th>filename</th>\n",
       "      <th>label</th>\n",
       "    </tr>\n",
       "  </thead>\n",
       "  <tbody>\n",
       "    <tr>\n",
       "      <th>0</th>\n",
       "      <td>audio_706.wav</td>\n",
       "      <td>4.486119</td>\n",
       "    </tr>\n",
       "    <tr>\n",
       "      <th>1</th>\n",
       "      <td>audio_800.wav</td>\n",
       "      <td>2.264364</td>\n",
       "    </tr>\n",
       "    <tr>\n",
       "      <th>2</th>\n",
       "      <td>audio_68.wav</td>\n",
       "      <td>3.921659</td>\n",
       "    </tr>\n",
       "    <tr>\n",
       "      <th>3</th>\n",
       "      <td>audio_1267.wav</td>\n",
       "      <td>2.468159</td>\n",
       "    </tr>\n",
       "    <tr>\n",
       "      <th>4</th>\n",
       "      <td>audio_683.wav</td>\n",
       "      <td>2.256742</td>\n",
       "    </tr>\n",
       "  </tbody>\n",
       "</table>\n",
       "</div>"
      ],
      "text/plain": [
       "         filename     label\n",
       "0   audio_706.wav  4.486119\n",
       "1   audio_800.wav  2.264364\n",
       "2    audio_68.wav  3.921659\n",
       "3  audio_1267.wav  2.468159\n",
       "4   audio_683.wav  2.256742"
      ]
     },
     "execution_count": 204,
     "metadata": {},
     "output_type": "execute_result"
    }
   ],
   "source": [
    "sub_df = pd.DataFrame()\n",
    "sub_df['filename'] = df_test['filename']\n",
    "sub_df['label'] = predictions\n",
    "sub_df.to_csv(\"sub3.csv\",index = False)\n",
    "sub_df.head()"
   ]
  },
  {
   "cell_type": "markdown",
   "metadata": {},
   "source": [
    "### Approach -> Weighted merge of different approaches"
   ]
  },
  {
   "cell_type": "code",
   "execution_count": null,
   "metadata": {},
   "outputs": [],
   "source": [
    "def weighted_merge(df1, df2, alpha=0.5):\n",
    "    # Ensure filenames match and merge\n",
    "    merged = pd.merge(df1, df2, on='filename', how='inner', suffixes=('_1', '_2'))\n",
    "\n",
    "    # Compute weighted sum of scores\n",
    "    merged['label'] = alpha * merged['label_1'] + (1-alpha) * merged['label_2']\n",
    "\n",
    "    # Return only required columns\n",
    "    return merged[['filename', 'label']].reset_index(drop=True)"
   ]
  },
  {
   "cell_type": "code",
   "execution_count": 58,
   "metadata": {
    "execution": {
     "iopub.execute_input": "2025-04-05T17:15:11.963825Z",
     "iopub.status.busy": "2025-04-05T17:15:11.963375Z",
     "iopub.status.idle": "2025-04-05T17:15:11.979704Z",
     "shell.execute_reply": "2025-04-05T17:15:11.978742Z",
     "shell.execute_reply.started": "2025-04-05T17:15:11.963800Z"
    }
   },
   "outputs": [
    {
     "data": {
      "text/html": [
       "<div>\n",
       "<style scoped>\n",
       "    .dataframe tbody tr th:only-of-type {\n",
       "        vertical-align: middle;\n",
       "    }\n",
       "\n",
       "    .dataframe tbody tr th {\n",
       "        vertical-align: top;\n",
       "    }\n",
       "\n",
       "    .dataframe thead th {\n",
       "        text-align: right;\n",
       "    }\n",
       "</style>\n",
       "<table border=\"1\" class=\"dataframe\">\n",
       "  <thead>\n",
       "    <tr style=\"text-align: right;\">\n",
       "      <th></th>\n",
       "      <th>filename</th>\n",
       "      <th>label</th>\n",
       "    </tr>\n",
       "  </thead>\n",
       "  <tbody>\n",
       "    <tr>\n",
       "      <th>0</th>\n",
       "      <td>audio_706.wav</td>\n",
       "      <td>3.112394</td>\n",
       "    </tr>\n",
       "    <tr>\n",
       "      <th>1</th>\n",
       "      <td>audio_800.wav</td>\n",
       "      <td>2.808166</td>\n",
       "    </tr>\n",
       "    <tr>\n",
       "      <th>2</th>\n",
       "      <td>audio_68.wav</td>\n",
       "      <td>3.912927</td>\n",
       "    </tr>\n",
       "    <tr>\n",
       "      <th>3</th>\n",
       "      <td>audio_1267.wav</td>\n",
       "      <td>2.910975</td>\n",
       "    </tr>\n",
       "    <tr>\n",
       "      <th>4</th>\n",
       "      <td>audio_683.wav</td>\n",
       "      <td>2.511891</td>\n",
       "    </tr>\n",
       "  </tbody>\n",
       "</table>\n",
       "</div>"
      ],
      "text/plain": [
       "         filename     label\n",
       "0   audio_706.wav  3.112394\n",
       "1   audio_800.wav  2.808166\n",
       "2    audio_68.wav  3.912927\n",
       "3  audio_1267.wav  2.910975\n",
       "4   audio_683.wav  2.511891"
      ]
     },
     "execution_count": 58,
     "metadata": {},
     "output_type": "execute_result"
    }
   ],
   "source": [
    "sub_df_prev = pd.read_csv(\"submission2.csv\")\n",
    "sub_df4 = weighted_merge(sub_df,sub_df_prev)\n",
    "sub_df4.to_csv(\"sub4.csv\",index = False)\n",
    "sub_df4.head()"
   ]
  },
  {
   "cell_type": "markdown",
   "metadata": {},
   "source": [
    "## Approach ->  Synthetic data merged traininig"
   ]
  },
  {
   "cell_type": "code",
   "execution_count": 29,
   "metadata": {
    "execution": {
     "iopub.execute_input": "2025-04-05T16:44:04.872675Z",
     "iopub.status.busy": "2025-04-05T16:44:04.872359Z",
     "iopub.status.idle": "2025-04-05T16:44:04.905487Z",
     "shell.execute_reply": "2025-04-05T16:44:04.904651Z",
     "shell.execute_reply.started": "2025-04-05T16:44:04.872654Z"
    }
   },
   "outputs": [
    {
     "data": {
      "text/html": [
       "<div>\n",
       "<style scoped>\n",
       "    .dataframe tbody tr th:only-of-type {\n",
       "        vertical-align: middle;\n",
       "    }\n",
       "\n",
       "    .dataframe tbody tr th {\n",
       "        vertical-align: top;\n",
       "    }\n",
       "\n",
       "    .dataframe thead th {\n",
       "        text-align: right;\n",
       "    }\n",
       "</style>\n",
       "<table border=\"1\" class=\"dataframe\">\n",
       "  <thead>\n",
       "    <tr style=\"text-align: right;\">\n",
       "      <th></th>\n",
       "      <th>text</th>\n",
       "      <th>label</th>\n",
       "    </tr>\n",
       "  </thead>\n",
       "  <tbody>\n",
       "    <tr>\n",
       "      <th>0</th>\n",
       "      <td>My family go to beach last weekend. My family ...</td>\n",
       "      <td>3.37</td>\n",
       "    </tr>\n",
       "    <tr>\n",
       "      <th>1</th>\n",
       "      <td>He is very like play game. I go market buy fru...</td>\n",
       "      <td>1.71</td>\n",
       "    </tr>\n",
       "    <tr>\n",
       "      <th>2</th>\n",
       "      <td>He likes to playing football in evening.</td>\n",
       "      <td>3.56</td>\n",
       "    </tr>\n",
       "    <tr>\n",
       "      <th>3</th>\n",
       "      <td>He is very like play game.</td>\n",
       "      <td>1.46</td>\n",
       "    </tr>\n",
       "    <tr>\n",
       "      <th>4</th>\n",
       "      <td>I go market buy fruit. No good shop. He is ver...</td>\n",
       "      <td>1.20</td>\n",
       "    </tr>\n",
       "  </tbody>\n",
       "</table>\n",
       "</div>"
      ],
      "text/plain": [
       "                                                text  label\n",
       "0  My family go to beach last weekend. My family ...   3.37\n",
       "1  He is very like play game. I go market buy fru...   1.71\n",
       "2           He likes to playing football in evening.   3.56\n",
       "3                         He is very like play game.   1.46\n",
       "4  I go market buy fruit. No good shop. He is ver...   1.20"
      ]
     },
     "execution_count": 29,
     "metadata": {},
     "output_type": "execute_result"
    }
   ],
   "source": [
    "df_train_transcript = pd.read_csv(\"/kaggle/input/test-and-train-kaggle-dataset-transcripts/train_transcript.csv\")\n",
    "synthetic_data_df = pd.read_csv(\"dataset_shl/dataset/synthetic_transcript_dataset_2.csv\")\n",
    "synthetic_data_df.head()\n"
   ]
  },
  {
   "cell_type": "code",
   "execution_count": 30,
   "metadata": {
    "execution": {
     "iopub.execute_input": "2025-04-05T16:44:12.226705Z",
     "iopub.status.busy": "2025-04-05T16:44:12.226407Z",
     "iopub.status.idle": "2025-04-05T16:44:12.237177Z",
     "shell.execute_reply": "2025-04-05T16:44:12.236284Z",
     "shell.execute_reply.started": "2025-04-05T16:44:12.226685Z"
    }
   },
   "outputs": [
    {
     "name": "stdout",
     "output_type": "stream",
     "text": [
      "1444\n"
     ]
    },
    {
     "data": {
      "text/html": [
       "<div>\n",
       "<style scoped>\n",
       "    .dataframe tbody tr th:only-of-type {\n",
       "        vertical-align: middle;\n",
       "    }\n",
       "\n",
       "    .dataframe tbody tr th {\n",
       "        vertical-align: top;\n",
       "    }\n",
       "\n",
       "    .dataframe thead th {\n",
       "        text-align: right;\n",
       "    }\n",
       "</style>\n",
       "<table border=\"1\" class=\"dataframe\">\n",
       "  <thead>\n",
       "    <tr style=\"text-align: right;\">\n",
       "      <th></th>\n",
       "      <th>text</th>\n",
       "      <th>label</th>\n",
       "    </tr>\n",
       "  </thead>\n",
       "  <tbody>\n",
       "    <tr>\n",
       "      <th>0</th>\n",
       "      <td>My family go to beach last weekend. My family ...</td>\n",
       "      <td>3.37</td>\n",
       "    </tr>\n",
       "    <tr>\n",
       "      <th>1</th>\n",
       "      <td>He is very like play game. I go market buy fru...</td>\n",
       "      <td>1.71</td>\n",
       "    </tr>\n",
       "    <tr>\n",
       "      <th>2</th>\n",
       "      <td>He likes to playing football in evening.</td>\n",
       "      <td>3.56</td>\n",
       "    </tr>\n",
       "    <tr>\n",
       "      <th>3</th>\n",
       "      <td>He is very like play game.</td>\n",
       "      <td>1.46</td>\n",
       "    </tr>\n",
       "    <tr>\n",
       "      <th>4</th>\n",
       "      <td>I go market buy fruit. No good shop. He is ver...</td>\n",
       "      <td>1.20</td>\n",
       "    </tr>\n",
       "  </tbody>\n",
       "</table>\n",
       "</div>"
      ],
      "text/plain": [
       "                                                text  label\n",
       "0  My family go to beach last weekend. My family ...   3.37\n",
       "1  He is very like play game. I go market buy fru...   1.71\n",
       "2           He likes to playing football in evening.   3.56\n",
       "3                         He is very like play game.   1.46\n",
       "4  I go market buy fruit. No good shop. He is ver...   1.20"
      ]
     },
     "execution_count": 30,
     "metadata": {},
     "output_type": "execute_result"
    }
   ],
   "source": [
    "concatenated_df = pd.concat([synthetic_data_df, df_train_transcript], ignore_index=True)\n",
    "print(len(concatenated_df))\n",
    "concatenated_df.head()"
   ]
  },
  {
   "cell_type": "code",
   "execution_count": 32,
   "metadata": {
    "execution": {
     "iopub.execute_input": "2025-04-05T16:44:57.966535Z",
     "iopub.status.busy": "2025-04-05T16:44:57.966148Z",
     "iopub.status.idle": "2025-04-05T16:44:58.195682Z",
     "shell.execute_reply": "2025-04-05T16:44:58.194887Z",
     "shell.execute_reply.started": "2025-04-05T16:44:57.966502Z"
    }
   },
   "outputs": [],
   "source": [
    "DEVICE = torch.device(\"cuda\" if torch.cuda.is_available() else \"cpu\")\n",
    "\n",
    "# Load data\n",
    "concatenated_df = concatenated_df.sample(frac=1, random_state=42).reset_index(drop=True)\n",
    "train_df, val_df = train_test_split(concatenated_df, test_size=0.2, random_state=42)\n",
    "\n",
    "# Tokenizer\n",
    "tokenizer = BertTokenizer.from_pretrained(\"bert-base-uncased\")\n",
    "\n",
    "# Dataset & DataLoader\n",
    "train_dataset = TranscriptDataset(train_df, tokenizer)\n",
    "val_dataset = TranscriptDataset(val_df, tokenizer)\n",
    "\n",
    "train_loader = DataLoader(train_dataset, batch_size = BATCH_SIZE, shuffle=True)\n",
    "val_loader = DataLoader(val_dataset, batch_size = BATCH_SIZE)\n"
   ]
  },
  {
   "cell_type": "code",
   "execution_count": 40,
   "metadata": {
    "execution": {
     "iopub.execute_input": "2025-04-05T16:50:18.202453Z",
     "iopub.status.busy": "2025-04-05T16:50:18.202057Z",
     "iopub.status.idle": "2025-04-05T16:50:18.786271Z",
     "shell.execute_reply": "2025-04-05T16:50:18.785599Z",
     "shell.execute_reply.started": "2025-04-05T16:50:18.202424Z"
    }
   },
   "outputs": [],
   "source": [
    "# Model, Loss, Optimizer\n",
    "model = BERTRegression(dropout = 0.4).to(DEVICE)\n",
    "criterion = nn.MSELoss()\n",
    "optimizer = AdamW(model.parameters(), lr=2e-5)"
   ]
  },
  {
   "cell_type": "code",
   "execution_count": 43,
   "metadata": {
    "execution": {
     "iopub.execute_input": "2025-04-05T16:59:28.673288Z",
     "iopub.status.busy": "2025-04-05T16:59:28.672792Z",
     "iopub.status.idle": "2025-04-05T17:07:27.782606Z",
     "shell.execute_reply": "2025-04-05T17:07:27.781753Z",
     "shell.execute_reply.started": "2025-04-05T16:59:28.673249Z"
    }
   },
   "outputs": [
    {
     "name": "stderr",
     "output_type": "stream",
     "text": [
      " 10%|█         | 5/50 [02:42<24:23, 32.52s/it]"
     ]
    },
    {
     "name": "stdout",
     "output_type": "stream",
     "text": [
      "Epoch 5 | Train Loss: 0.1090 | Val Loss: 0.2603\n"
     ]
    },
    {
     "name": "stderr",
     "output_type": "stream",
     "text": [
      " 20%|██        | 10/50 [05:20<21:13, 31.84s/it]"
     ]
    },
    {
     "name": "stdout",
     "output_type": "stream",
     "text": [
      "Epoch 10 | Train Loss: 0.0953 | Val Loss: 0.2908\n"
     ]
    },
    {
     "name": "stderr",
     "output_type": "stream",
     "text": [
      " 28%|██▊       | 14/50 [07:59<20:31, 34.22s/it]"
     ]
    },
    {
     "name": "stdout",
     "output_type": "stream",
     "text": [
      "Early stopping!\n"
     ]
    },
    {
     "name": "stderr",
     "output_type": "stream",
     "text": [
      "\n"
     ]
    }
   ],
   "source": [
    "# Training Loop\n",
    "epochs = 50\n",
    "patience_counter = 0\n",
    "best_val_loss = 1000000\n",
    "patience = 10\n",
    "\n",
    "for epoch in tqdm(range(epochs)):\n",
    "    train_loss = train_epoch(model, train_loader, optimizer, criterion)\n",
    "    avg_val_loss, preds, labels = eval_epoch(model, val_loader, criterion)\n",
    "    if avg_val_loss < best_val_loss:\n",
    "            best_val_loss = avg_val_loss\n",
    "            patience_counter = 0\n",
    "            torch.save(model.state_dict(), \"best_model_with_synthetic_transcript.pt\")  # Save best model\n",
    "    else:\n",
    "        patience_counter += 1\n",
    "        if patience_counter >= patience:\n",
    "            print(\"Early stopping!\")\n",
    "            break\n",
    "\n",
    "    if((epoch+1)%5==0):\n",
    "        print(f\"Epoch {epoch+1} | Train Loss: {train_loss:.4f} | Val Loss: {avg_val_loss:.4f}\")"
   ]
  },
  {
   "cell_type": "code",
   "execution_count": 50,
   "metadata": {
    "execution": {
     "iopub.execute_input": "2025-04-05T17:09:59.781541Z",
     "iopub.status.busy": "2025-04-05T17:09:59.781201Z",
     "iopub.status.idle": "2025-04-05T17:10:02.081928Z",
     "shell.execute_reply": "2025-04-05T17:10:02.080938Z",
     "shell.execute_reply.started": "2025-04-05T17:09:59.781515Z"
    }
   },
   "outputs": [
    {
     "name": "stderr",
     "output_type": "stream",
     "text": [
      "<ipython-input-50-2281680ae404>:1: FutureWarning: You are using `torch.load` with `weights_only=False` (the current default value), which uses the default pickle module implicitly. It is possible to construct malicious pickle data which will execute arbitrary code during unpickling (See https://github.com/pytorch/pytorch/blob/main/SECURITY.md#untrusted-models for more details). In a future release, the default value for `weights_only` will be flipped to `True`. This limits the functions that could be executed during unpickling. Arbitrary objects will no longer be allowed to be loaded via this mode unless they are explicitly allowlisted by the user via `torch.serialization.add_safe_globals`. We recommend you start setting `weights_only=True` for any use case where you don't have full control of the loaded file. Please open an issue on GitHub for any issues related to this experimental feature.\n",
      "  model.load_state_dict(torch.load(\"best_model_transcript.pt\"))\n",
      "Predicting: 100%|██████████| 13/13 [00:01<00:00,  6.68it/s]\n"
     ]
    }
   ],
   "source": [
    "model.load_state_dict(torch.load(\"best_model_with_synthetic_transcript.pt\"))\n",
    "predictions = predict(model, test_loader)"
   ]
  },
  {
   "cell_type": "code",
   "execution_count": 52,
   "metadata": {
    "execution": {
     "iopub.execute_input": "2025-04-05T17:10:41.275156Z",
     "iopub.status.busy": "2025-04-05T17:10:41.274812Z",
     "iopub.status.idle": "2025-04-05T17:10:41.293803Z",
     "shell.execute_reply": "2025-04-05T17:10:41.292862Z",
     "shell.execute_reply.started": "2025-04-05T17:10:41.275131Z"
    }
   },
   "outputs": [
    {
     "data": {
      "text/html": [
       "<div>\n",
       "<style scoped>\n",
       "    .dataframe tbody tr th:only-of-type {\n",
       "        vertical-align: middle;\n",
       "    }\n",
       "\n",
       "    .dataframe tbody tr th {\n",
       "        vertical-align: top;\n",
       "    }\n",
       "\n",
       "    .dataframe thead th {\n",
       "        text-align: right;\n",
       "    }\n",
       "</style>\n",
       "<table border=\"1\" class=\"dataframe\">\n",
       "  <thead>\n",
       "    <tr style=\"text-align: right;\">\n",
       "      <th></th>\n",
       "      <th>filename</th>\n",
       "      <th>label</th>\n",
       "    </tr>\n",
       "  </thead>\n",
       "  <tbody>\n",
       "    <tr>\n",
       "      <th>0</th>\n",
       "      <td>audio_706.wav</td>\n",
       "      <td>3.960189</td>\n",
       "    </tr>\n",
       "    <tr>\n",
       "      <th>1</th>\n",
       "      <td>audio_800.wav</td>\n",
       "      <td>2.276778</td>\n",
       "    </tr>\n",
       "    <tr>\n",
       "      <th>2</th>\n",
       "      <td>audio_68.wav</td>\n",
       "      <td>4.011518</td>\n",
       "    </tr>\n",
       "    <tr>\n",
       "      <th>3</th>\n",
       "      <td>audio_1267.wav</td>\n",
       "      <td>2.681172</td>\n",
       "    </tr>\n",
       "    <tr>\n",
       "      <th>4</th>\n",
       "      <td>audio_683.wav</td>\n",
       "      <td>2.439897</td>\n",
       "    </tr>\n",
       "  </tbody>\n",
       "</table>\n",
       "</div>"
      ],
      "text/plain": [
       "         filename     label\n",
       "0   audio_706.wav  3.960189\n",
       "1   audio_800.wav  2.276778\n",
       "2    audio_68.wav  4.011518\n",
       "3  audio_1267.wav  2.681172\n",
       "4   audio_683.wav  2.439897"
      ]
     },
     "execution_count": 52,
     "metadata": {},
     "output_type": "execute_result"
    }
   ],
   "source": [
    "sub_df = pd.DataFrame()\n",
    "sub_df['filename'] = df_test['filename']\n",
    "sub_df['label'] = predictions\n",
    "sub_df.to_csv(\"sub6.csv\",index = False)\n",
    "sub_df.head()"
   ]
  },
  {
   "cell_type": "markdown",
   "metadata": {},
   "source": [
    "#### Weighted Merge"
   ]
  },
  {
   "cell_type": "code",
   "execution_count": 55,
   "metadata": {
    "execution": {
     "iopub.execute_input": "2025-04-05T17:13:43.438237Z",
     "iopub.status.busy": "2025-04-05T17:13:43.437873Z",
     "iopub.status.idle": "2025-04-05T17:13:43.475649Z",
     "shell.execute_reply": "2025-04-05T17:13:43.474833Z",
     "shell.execute_reply.started": "2025-04-05T17:13:43.438209Z"
    }
   },
   "outputs": [
    {
     "data": {
      "text/html": [
       "<div>\n",
       "<style scoped>\n",
       "    .dataframe tbody tr th:only-of-type {\n",
       "        vertical-align: middle;\n",
       "    }\n",
       "\n",
       "    .dataframe tbody tr th {\n",
       "        vertical-align: top;\n",
       "    }\n",
       "\n",
       "    .dataframe thead th {\n",
       "        text-align: right;\n",
       "    }\n",
       "</style>\n",
       "<table border=\"1\" class=\"dataframe\">\n",
       "  <thead>\n",
       "    <tr style=\"text-align: right;\">\n",
       "      <th></th>\n",
       "      <th>filename</th>\n",
       "      <th>label</th>\n",
       "    </tr>\n",
       "  </thead>\n",
       "  <tbody>\n",
       "    <tr>\n",
       "      <th>0</th>\n",
       "      <td>audio_706.wav</td>\n",
       "      <td>3.112394</td>\n",
       "    </tr>\n",
       "    <tr>\n",
       "      <th>1</th>\n",
       "      <td>audio_800.wav</td>\n",
       "      <td>2.808166</td>\n",
       "    </tr>\n",
       "    <tr>\n",
       "      <th>2</th>\n",
       "      <td>audio_68.wav</td>\n",
       "      <td>3.912927</td>\n",
       "    </tr>\n",
       "    <tr>\n",
       "      <th>3</th>\n",
       "      <td>audio_1267.wav</td>\n",
       "      <td>2.910975</td>\n",
       "    </tr>\n",
       "    <tr>\n",
       "      <th>4</th>\n",
       "      <td>audio_683.wav</td>\n",
       "      <td>2.511891</td>\n",
       "    </tr>\n",
       "  </tbody>\n",
       "</table>\n",
       "</div>"
      ],
      "text/plain": [
       "         filename     label\n",
       "0   audio_706.wav  3.112394\n",
       "1   audio_800.wav  2.808166\n",
       "2    audio_68.wav  3.912927\n",
       "3  audio_1267.wav  2.910975\n",
       "4   audio_683.wav  2.511891"
      ]
     },
     "execution_count": 55,
     "metadata": {},
     "output_type": "execute_result"
    }
   ],
   "source": [
    "sub_df_prev = pd.read_csv(\"sub.csv\")\n",
    "sub_df7 = weighted_merge(sub_df,sub_df_prev)\n",
    "sub_df7.to_csv(\"sub7.csv\",index = False)\n",
    "sub_df7.head()"
   ]
  },
  {
   "cell_type": "markdown",
   "metadata": {},
   "source": [
    "## Approach -> Multimodal archtecture i.e. Use both audio and transcript features"
   ]
  },
  {
   "cell_type": "code",
   "execution_count": 210,
   "metadata": {},
   "outputs": [
    {
     "data": {
      "text/html": [
       "<div>\n",
       "<style scoped>\n",
       "    .dataframe tbody tr th:only-of-type {\n",
       "        vertical-align: middle;\n",
       "    }\n",
       "\n",
       "    .dataframe tbody tr th {\n",
       "        vertical-align: top;\n",
       "    }\n",
       "\n",
       "    .dataframe thead th {\n",
       "        text-align: right;\n",
       "    }\n",
       "</style>\n",
       "<table border=\"1\" class=\"dataframe\">\n",
       "  <thead>\n",
       "    <tr style=\"text-align: right;\">\n",
       "      <th></th>\n",
       "      <th>text</th>\n",
       "      <th>label</th>\n",
       "      <th>filename</th>\n",
       "    </tr>\n",
       "  </thead>\n",
       "  <tbody>\n",
       "    <tr>\n",
       "      <th>0</th>\n",
       "      <td>1.5% 1.5% 1.5% 1.5% 1.5% 1.5% 1.5% 1.5% 1.5% ...</td>\n",
       "      <td>1.0</td>\n",
       "      <td>audio_1261.wav</td>\n",
       "    </tr>\n",
       "    <tr>\n",
       "      <th>1</th>\n",
       "      <td>The playground looks like very clear and neat...</td>\n",
       "      <td>1.5</td>\n",
       "      <td>audio_942.wav</td>\n",
       "    </tr>\n",
       "    <tr>\n",
       "      <th>2</th>\n",
       "      <td>2011 2011 2007 nd to have a about the electro...</td>\n",
       "      <td>1.5</td>\n",
       "      <td>audio_1110.wav</td>\n",
       "    </tr>\n",
       "    <tr>\n",
       "      <th>3</th>\n",
       "      <td>My favorite place is in Andhra Pradesh. It is...</td>\n",
       "      <td>1.5</td>\n",
       "      <td>audio_1024.wav</td>\n",
       "    </tr>\n",
       "    <tr>\n",
       "      <th>4</th>\n",
       "      <td>My favorite place is UTI and PRAKAN. My exper...</td>\n",
       "      <td>2.0</td>\n",
       "      <td>audio_538.wav</td>\n",
       "    </tr>\n",
       "  </tbody>\n",
       "</table>\n",
       "</div>"
      ],
      "text/plain": [
       "                                                text  label        filename\n",
       "0   1.5% 1.5% 1.5% 1.5% 1.5% 1.5% 1.5% 1.5% 1.5% ...    1.0  audio_1261.wav\n",
       "1   The playground looks like very clear and neat...    1.5   audio_942.wav\n",
       "2   2011 2011 2007 nd to have a about the electro...    1.5  audio_1110.wav\n",
       "3   My favorite place is in Andhra Pradesh. It is...    1.5  audio_1024.wav\n",
       "4   My favorite place is UTI and PRAKAN. My exper...    2.0   audio_538.wav"
      ]
     },
     "execution_count": 210,
     "metadata": {},
     "output_type": "execute_result"
    }
   ],
   "source": [
    "df_train_kaggle = pd.read_csv(\"dataset_shl/dataset/train.csv\")\n",
    "train_transcript_data = pd.read_csv(\"dataset_shl/dataset/train_transcript.csv\")\n",
    "train_transcript_data['filename'] = df_train_kaggle['filename']\n",
    "train_transcript_data.head()\n",
    "# len(df_train_kaggle),len(train_transcript_data)"
   ]
  },
  {
   "cell_type": "code",
   "execution_count": 211,
   "metadata": {},
   "outputs": [],
   "source": [
    "audio_model= \"facebook/wav2vec2-base-960h\"\n",
    "text_model =  \"bert-base-uncased\"\n",
    "learning_rate = 2e-5\n",
    "batch_size = 1\n",
    "epochs = 50\n",
    "audio_max_len = 16000*60\n",
    "text_max_len = 128"
   ]
  },
  {
   "cell_type": "code",
   "execution_count": 212,
   "metadata": {},
   "outputs": [],
   "source": [
    "class GrammarDataset(Dataset):\n",
    "    def __init__(self, data, tokenizer, feature_extractor, task, audio_max_len=16000*60):\n",
    "        \"\"\"\n",
    "        Args:\n",
    "            data (DataFrame): Contains 'filename', 'text', and optionally 'label'.\n",
    "            tokenizer: Hugging Face tokenizer for text.\n",
    "            feature_extractor: Hugging Face feature extractor for audio.\n",
    "            task (str): 'train' or other (inference/eval).\n",
    "            audio_max_len (int): Max audio length in samples (default is 60s at 16kHz).\n",
    "        \"\"\"\n",
    "        \n",
    "        self.data = data #Dataframe\n",
    "        self.tokenizer = tokenizer\n",
    "        self.feature_extractor = feature_extractor\n",
    "        self.task = task\n",
    "        self.audio_max_len = audio_max_len\n",
    "\n",
    "    def __len__(self):\n",
    "        return len(self.data)\n",
    "\n",
    "    def __getitem__(self, idx):\n",
    "        item = self.data.iloc[idx]\n",
    "        file_path = f'dataset_shl/dataset/audios_{self.task}/{item[\"filename\"]}'\n",
    "        \n",
    "        # Load audio\n",
    "        audio, sr = librosa.load(file_path, sr=16000)\n",
    "\n",
    "        # Pad or truncate audio\n",
    "        audio_tensor = torch.tensor(audio)\n",
    "        if len(audio_tensor) < self.audio_max_len:\n",
    "            pad_len = self.audio_max_len - len(audio_tensor)\n",
    "            audio_tensor = F.pad(audio_tensor, (0, pad_len))\n",
    "        else:\n",
    "            audio_tensor = audio_tensor[:self.audio_max_len]\n",
    "\n",
    "        # Extract audio features\n",
    "        audio_features = self.feature_extractor(\n",
    "            audio_tensor.numpy(),\n",
    "            sampling_rate=sr,\n",
    "            return_tensors=\"pt\"\n",
    "        )\n",
    "\n",
    "        # Extract text features\n",
    "        text = item.get('text', '')\n",
    "        if not isinstance(text, str):\n",
    "            text = ''\n",
    "        text_features = self.tokenizer(\n",
    "            text,\n",
    "            truncation=True,\n",
    "            padding=\"max_length\",\n",
    "            max_length=128,\n",
    "            return_tensors=\"pt\"\n",
    "        )\n",
    "\n",
    "        # Package features\n",
    "        sample = {\n",
    "            'audio_input': audio_features.input_values.squeeze(0),\n",
    "            'text_input_ids': text_features.input_ids.squeeze(0),\n",
    "            'text_attention_mask': text_features.attention_mask.squeeze(0)\n",
    "        }\n",
    "\n",
    "        # Add label if training\n",
    "        if self.task == 'train':\n",
    "            sample['label'] = torch.tensor(item['label'], dtype=torch.float)\n",
    "\n",
    "        return sample"
   ]
  },
  {
   "cell_type": "code",
   "execution_count": 213,
   "metadata": {},
   "outputs": [
    {
     "data": {
      "image/png": "[encoded data removed]",
      "text/plain": [
       "<Figure size 1200x400 with 1 Axes>"
      ]
     },
     "metadata": {},
     "output_type": "display_data"
    }
   ],
   "source": [
    "waveform, sample_rate = librosa.load(\"dataset_shl/dataset/audios_train/audio_1128.wav\" , sr = 16000)\n",
    "plt.figure(figsize=(12, 4))\n",
    "librosa.display.waveshow(waveform, sr=16000)\n",
    "plt.title(\"Waveform of audio_1008.wav\")\n",
    "plt.xlabel(\"Time (s)\")\n",
    "plt.ylabel(\"Amplitude\")\n",
    "plt.grid(True)\n",
    "plt.tight_layout()\n",
    "plt.show()"
   ]
  },
  {
   "cell_type": "code",
   "execution_count": 215,
   "metadata": {},
   "outputs": [],
   "source": [
    "class MultimodalGrammarScorer(nn.Module):\n",
    "    def __init__(self, audio_model_name, text_model_name):\n",
    "        super().__init__()\n",
    "        self.audio_encoder = AutoModel.from_pretrained(audio_model_name)\n",
    "        self.text_encoder = AutoModel.from_pretrained(text_model_name)\n",
    "\n",
    "        self.fc = nn.Sequential(\n",
    "            nn.Linear(self.audio_encoder.config.hidden_size + self.text_encoder.config.hidden_size, 256),\n",
    "            nn.ReLU(),\n",
    "            nn.Dropout(0.2),\n",
    "            nn.Linear(256, 1)\n",
    "        )\n",
    "\n",
    "    def forward(self, audio_input, text_input_ids, text_attention_mask):\n",
    "        audio_embed = self.audio_encoder(audio_input).last_hidden_state[:, 0, :]  # CLS Token\n",
    "        text_embed = self.text_encoder(input_ids=text_input_ids, attention_mask=text_attention_mask).last_hidden_state[:, 0, :]\n",
    "        \n",
    "        combined = torch.cat([audio_embed, text_embed], dim=1)\n",
    "        output = self.fc(combined)\n",
    "        \n",
    "        return output.squeeze()"
   ]
  },
  {
   "cell_type": "code",
   "execution_count": 216,
   "metadata": {},
   "outputs": [
    {
     "data": {
      "text/plain": [
       "9913"
      ]
     },
     "execution_count": 216,
     "metadata": {},
     "output_type": "execute_result"
    }
   ],
   "source": [
    "import gc\n",
    "torch.cuda.empty_cache()\n",
    "gc.collect()\n"
   ]
  },
  {
   "cell_type": "code",
   "execution_count": 217,
   "metadata": {},
   "outputs": [],
   "source": [
    "tokenizer = AutoTokenizer.from_pretrained(text_model)\n",
    "feature_extractor = AutoFeatureExtractor.from_pretrained(audio_model)\n",
    "\n",
    "# Load your train_data / val_data\n",
    "train_df, val_df = train_test_split(train_transcript_data, test_size=0.2, random_state=42)\n",
    "\n",
    "train_dataset = GrammarDataset(train_df, tokenizer, feature_extractor,task = 'train')\n",
    "val_dataset = GrammarDataset(val_df, tokenizer, feature_extractor , task = 'train')\n",
    "\n",
    "train_loader = DataLoader(train_dataset, batch_size=batch_size, shuffle=True)\n",
    "val_loader = DataLoader(val_dataset, batch_size=batch_size, shuffle=False)\n"
   ]
  },
  {
   "cell_type": "code",
   "execution_count": 218,
   "metadata": {},
   "outputs": [
    {
     "name": "stderr",
     "output_type": "stream",
     "text": [
      "Some weights of Wav2Vec2Model were not initialized from the model checkpoint at facebook/wav2vec2-base-960h and are newly initialized: ['wav2vec2.masked_spec_embed']\n",
      "You should probably TRAIN this model on a down-stream task to be able to use it for predictions and inference.\n"
     ]
    }
   ],
   "source": [
    "model = MultimodalGrammarScorer(audio_model, text_model).cuda()\n",
    "optimizer = torch.optim.AdamW(model.parameters(), lr=learning_rate)\n",
    "loss_fn = torch.nn.MSELoss()"
   ]
  },
  {
   "cell_type": "code",
   "execution_count": null,
   "metadata": {},
   "outputs": [
    {
     "name": "stderr",
     "output_type": "stream",
     "text": [
      "  0%|                                                                                          | 0/355 [00:00<?, ?it/s]C:\\Users\\syedd\\miniconda3\\envs\\hmenv3\\Lib\\site-packages\\torch\\nn\\modules\\loss.py:608: UserWarning: Using a target size (torch.Size([1])) that is different to the input size (torch.Size([])). This will likely lead to incorrect results due to broadcasting. Please ensure they have the same size.\n",
      "  return F.mse_loss(input, target, reduction=self.reduction)\n",
      "100%|████████████████████████████████████████████████████████████████████████████████| 355/355 [01:35<00:00,  3.70it/s]\n",
      "Evaluating: 100%|██████████████████████████████████████████████████████████████████████| 89/89 [00:07<00:00, 11.14it/s]\n"
     ]
    },
    {
     "name": "stdout",
     "output_type": "stream",
     "text": [
      "Epoch 0: Train Loss : 0.2085830271244049 : Val Loss : 2.4994354248046875\n"
     ]
    },
    {
     "name": "stderr",
     "output_type": "stream",
     "text": [
      "100%|████████████████████████████████████████████████████████████████████████████████| 355/355 [01:35<00:00,  3.71it/s]\n",
      "Evaluating: 100%|██████████████████████████████████████████████████████████████████████| 89/89 [00:07<00:00, 12.05it/s]\n"
     ]
    },
    {
     "name": "stdout",
     "output_type": "stream",
     "text": [
      "Epoch 1: Train Loss : 3.568352222442627 : Val Loss : 0.35052555799484253\n"
     ]
    },
    {
     "name": "stderr",
     "output_type": "stream",
     "text": [
      "100%|████████████████████████████████████████████████████████████████████████████████| 355/355 [01:35<00:00,  3.73it/s]\n",
      "Evaluating: 100%|██████████████████████████████████████████████████████████████████████| 89/89 [00:07<00:00, 12.00it/s]\n"
     ]
    },
    {
     "name": "stdout",
     "output_type": "stream",
     "text": [
      "Epoch 2: Train Loss : 0.19680015742778778 : Val Loss : 0.1666007936000824\n"
     ]
    },
    {
     "name": "stderr",
     "output_type": "stream",
     "text": [
      "100%|████████████████████████████████████████████████████████████████████████████████| 355/355 [01:36<00:00,  3.68it/s]\n",
      "Evaluating: 100%|██████████████████████████████████████████████████████████████████████| 89/89 [00:07<00:00, 12.03it/s]\n"
     ]
    },
    {
     "name": "stdout",
     "output_type": "stream",
     "text": [
      "Epoch 3: Train Loss : 0.011868573725223541 : Val Loss : 0.28118637204170227\n"
     ]
    },
    {
     "name": "stderr",
     "output_type": "stream",
     "text": [
      "100%|████████████████████████████████████████████████████████████████████████████████| 355/355 [01:35<00:00,  3.72it/s]\n",
      "Evaluating: 100%|██████████████████████████████████████████████████████████████████████| 89/89 [00:07<00:00, 12.01it/s]\n"
     ]
    },
    {
     "name": "stdout",
     "output_type": "stream",
     "text": [
      "Epoch 4: Train Loss : 0.08695416152477264 : Val Loss : 0.9346666932106018\n"
     ]
    },
    {
     "name": "stderr",
     "output_type": "stream",
     "text": [
      "100%|████████████████████████████████████████████████████████████████████████████████| 355/355 [01:35<00:00,  3.70it/s]\n",
      "Evaluating: 100%|██████████████████████████████████████████████████████████████████████| 89/89 [00:07<00:00, 12.03it/s]\n"
     ]
    },
    {
     "name": "stdout",
     "output_type": "stream",
     "text": [
      "Epoch 5: Train Loss : 0.030902065336704254 : Val Loss : 0.4975524842739105\n"
     ]
    },
    {
     "name": "stderr",
     "output_type": "stream",
     "text": [
      " 96%|████████████████████████████████████████████████████████████████████████████▊   | 341/355 [01:32<00:03,  3.70it/s]"
     ]
    }
   ],
   "source": [
    "best_rmse = float('inf')\n",
    "patience = 0\n",
    "patience_limit = 10\n",
    "train_loss_list = []\n",
    "val_loss_list = []\n",
    "for epoch in range(epochs):\n",
    "    model.train()\n",
    "    for batch in tqdm(train_loader):\n",
    "        audio_input = batch['audio_input'].cuda()\n",
    "        text_input_ids = batch['text_input_ids'].cuda()\n",
    "        text_attention_mask = batch['text_attention_mask'].cuda()\n",
    "        scores = batch['label'].cuda()\n",
    "\n",
    "        preds = model(audio_input, text_input_ids, text_attention_mask)\n",
    "        train_loss = loss_fn(preds, scores)\n",
    "\n",
    "        optimizer.zero_grad()\n",
    "        train_loss.backward()\n",
    "        optimizer.step()\n",
    "    model.eval()\n",
    "    with torch.no_grad():\n",
    "        for batch in tqdm(val_loader, desc = 'Evaluating'):\n",
    "        \n",
    "            audio_input = batch['audio_input'].cuda()\n",
    "            text_input_ids = batch['text_input_ids'].cuda()\n",
    "            text_attention_mask = batch['text_attention_mask'].cuda()\n",
    "            scores = batch['label'].cuda()\n",
    "    \n",
    "            preds = model(audio_input, text_input_ids, text_attention_mask)\n",
    "            val_loss = loss_fn(preds, scores)\n",
    "\n",
    "    print(f\"Epoch {epoch}: Train Loss : {train_loss.item()} : Val Loss : {val_loss}\")\n",
    "\n",
    "    if val_loss < best_rmse:\n",
    "        patience = 0\n",
    "        best_rmse = val_loss\n",
    "        torch.save(model.state_dict(), f\"best_model_audio_plus_text_bert_whisper.pt\")\n",
    "            # print(f\"Saved Best Model with RMSE: {best_rmse:.4f}\")\n",
    "    else:\n",
    "        patience = patience + 1\n",
    "        if(patience > patience_limit):\n",
    "            print(\"Early Stopping\")\n",
    "            break\n"
   ]
  },
  {
   "cell_type": "code",
   "execution_count": null,
   "metadata": {},
   "outputs": [],
   "source": [
    "test_dataset = GrammarDataset(test_transcript_data, tokenizer, feature_extractor,task = 'test')\n",
    "test_loader = DataLoader(test_dataset, batch_size=BATCH_SIZE, shuffle=False)\n"
   ]
  },
  {
   "cell_type": "code",
   "execution_count": null,
   "metadata": {},
   "outputs": [],
   "source": [
    "def predict(model, test_loader):\n",
    "    model.eval()\n",
    "    predictions = []\n",
    "    with torch.no_grad():\n",
    "        for batch in tqdm(test_loader, desc=\"Predicting\"):\n",
    "            audio_input = batch['audio_input'].cuda()\n",
    "            text_input_ids = batch['text_input_ids'].cuda()\n",
    "            text_attention_mask = batch['text_attention_mask'].cuda()\n",
    "            # scores = batch['label'].cuda()\n",
    "    \n",
    "            preds = model(audio_input, text_input_ids, text_attention_mask)\n",
    "            predictions.append(preds.cpu().numpy())\n",
    "\n",
    "    return predictions\n"
   ]
  },
  {
   "cell_type": "code",
   "execution_count": 188,
   "metadata": {},
   "outputs": [
    {
     "name": "stderr",
     "output_type": "stream",
     "text": [
      "Predicting: 100%|████████████████████████████████████████████████████████████████████| 195/195 [00:16<00:00, 11.79it/s]\n"
     ]
    }
   ],
   "source": [
    "model.load_state_dict(torch.load(\"best_model_audio_plus_text_bert_whisper.pt\"))\n",
    "predictions = predict(model, test_loader)"
   ]
  },
  {
   "cell_type": "code",
   "execution_count": 190,
   "metadata": {},
   "outputs": [
    {
     "data": {
      "text/html": [
       "<div>\n",
       "<style scoped>\n",
       "    .dataframe tbody tr th:only-of-type {\n",
       "        vertical-align: middle;\n",
       "    }\n",
       "\n",
       "    .dataframe tbody tr th {\n",
       "        vertical-align: top;\n",
       "    }\n",
       "\n",
       "    .dataframe thead th {\n",
       "        text-align: right;\n",
       "    }\n",
       "</style>\n",
       "<table border=\"1\" class=\"dataframe\">\n",
       "  <thead>\n",
       "    <tr style=\"text-align: right;\">\n",
       "      <th></th>\n",
       "      <th>filename</th>\n",
       "      <th>label</th>\n",
       "    </tr>\n",
       "  </thead>\n",
       "  <tbody>\n",
       "    <tr>\n",
       "      <th>0</th>\n",
       "      <td>audio_706.wav</td>\n",
       "      <td>4.375926</td>\n",
       "    </tr>\n",
       "    <tr>\n",
       "      <th>1</th>\n",
       "      <td>audio_800.wav</td>\n",
       "      <td>2.199115</td>\n",
       "    </tr>\n",
       "    <tr>\n",
       "      <th>2</th>\n",
       "      <td>audio_68.wav</td>\n",
       "      <td>3.6435082</td>\n",
       "    </tr>\n",
       "    <tr>\n",
       "      <th>3</th>\n",
       "      <td>audio_1267.wav</td>\n",
       "      <td>2.326678</td>\n",
       "    </tr>\n",
       "    <tr>\n",
       "      <th>4</th>\n",
       "      <td>audio_683.wav</td>\n",
       "      <td>2.5672758</td>\n",
       "    </tr>\n",
       "  </tbody>\n",
       "</table>\n",
       "</div>"
      ],
      "text/plain": [
       "         filename      label\n",
       "0   audio_706.wav   4.375926\n",
       "1   audio_800.wav   2.199115\n",
       "2    audio_68.wav  3.6435082\n",
       "3  audio_1267.wav   2.326678\n",
       "4   audio_683.wav  2.5672758"
      ]
     },
     "execution_count": 190,
     "metadata": {},
     "output_type": "execute_result"
    }
   ],
   "source": [
    "df_test = pd.read_csv(\"dataset_shl/dataset/test.csv\")\n",
    "sub_df = pd.DataFrame()\n",
    "sub_df['filename'] = df_test['filename']\n",
    "sub_df['label'] = predictions\n",
    "sub_df.to_csv(\"sub9.csv\", index = False)\n",
    "sub_df.head()"
   ]
  },
  {
   "cell_type": "markdown",
   "metadata": {},
   "source": [
    "#### Weighted Merges"
   ]
  },
  {
   "cell_type": "code",
   "execution_count": 195,
   "metadata": {},
   "outputs": [],
   "source": [
    "sub = pd.read_csv(\"sub.csv\")\n",
    "sub_plus_9 = weighted_merge(sub_df , sub)\n",
    "sub_plus_9.to_csv(\"sub_plus_9.csv\", index = False)"
   ]
  },
  {
   "cell_type": "markdown",
   "metadata": {},
   "source": [
    "## Using WaveLM sota speach model for feature extration"
   ]
  },
  {
   "cell_type": "code",
   "execution_count": null,
   "metadata": {},
   "outputs": [],
   "source": [
    "# ----- Audio encoder: WavLM -----\n",
    "wavlm_bundle = torchaudio.pipelines.WAVLM_BASE\n",
    "wavlm_model = wavlm_bundle.get_model().eval().to(\"cuda\" if torch.cuda.is_available() else \"cpu\")\n",
    "\n",
    "# ----- Text encoder: BERT base -----\n",
    "bert_tokenizer = BertTokenizer.from_pretrained('bert-base-uncased')\n",
    "bert_model = BertModel.from_pretrained('bert-base-uncased').eval().to(\"cuda\" if torch.cuda.is_available() else \"cpu\")\n",
    "\n",
    "device = torch.device(\"cuda\" if torch.cuda.is_available() else \"cpu\")\n"
   ]
  },
  {
   "cell_type": "code",
   "execution_count": null,
   "metadata": {},
   "outputs": [],
   "source": [
    "\n",
    "# ----- Load and preprocess audio using Librosa -----\n",
    "def load_audio_librosa(filepath, target_sr=16000):\n",
    "    waveform, sr = librosa.load(filepath, sr=target_sr)\n",
    "    waveform_tensor = torch.tensor(waveform).float().to(device)\n",
    "    return waveform_tensor\n",
    "\n",
    "@torch.no_grad()\n",
    "def get_audio_embedding(filepath):\n",
    "    waveform = load_audio_librosa(filepath)\n",
    "    if waveform.dim() == 1:\n",
    "        waveform = waveform.unsqueeze(0)\n",
    "    features = wavlm_model(waveform)  # (1, T', 768)\n",
    "    pooled = features[0].mean(dim=1)  # (1, 768)\n",
    "    return pooled.squeeze(0)  # (768,)\n",
    "\n",
    "# ----- Process transcript with BERT -----\n",
    "@torch.no_grad()\n",
    "def get_text_embedding(transcript):\n",
    "    \n",
    "    if not isinstance(transcript, str):\n",
    "        transcript = \"\"\n",
    "    tokens = bert_tokenizer(transcript, return_tensors=\"pt\", padding=True, truncation=True, max_length=128).to(device)\n",
    "    outputs = bert_model(**tokens)\n",
    "    cls_embedding = outputs.last_hidden_state[:, 0, :]  # CLS token (1, 768)\n",
    "    return cls_embedding.squeeze(0)  # (768,)\n"
   ]
  },
  {
   "cell_type": "markdown",
   "metadata": {},
   "source": [
    "#### Model class for concatenating CLS tokens of audio and text embeddings then feeding to MLP"
   ]
  },
  {
   "cell_type": "code",
   "execution_count": null,
   "metadata": {},
   "outputs": [],
   "source": [
    "class AudioTextFusionModel(nn.Module):\n",
    "    def __init__(self, hidden_size=768):\n",
    "        super().__init__()\n",
    "        self.model = nn.Sequential(\n",
    "            nn.Linear(hidden_size * 2, 512),\n",
    "            nn.BatchNorm1d(512),\n",
    "            nn.ReLU(),\n",
    "            nn.Dropout(0.3),\n",
    "\n",
    "            nn.Linear(512, 256),\n",
    "            nn.BatchNorm1d(256),\n",
    "            nn.ReLU(),\n",
    "            nn.Dropout(0.3),\n",
    "\n",
    "            nn.Linear(256, 64),\n",
    "            nn.ReLU(),\n",
    "\n",
    "            nn.Linear(64, 1),\n",
    "            nn.Sigmoid()\n",
    "        )\n",
    "\n",
    "    def forward(self, audio_embed, text_embed):\n",
    "        x = torch.cat([audio_embed, text_embed], dim=-1)  # (B, 1536)\n",
    "        return self.model(x) * 5.0"
   ]
  },
  {
   "cell_type": "code",
   "execution_count": 9,
   "metadata": {},
   "outputs": [],
   "source": [
    "train_transcript_data = pd.read_csv(\"dataset_shl/dataset/train_transcript.csv\")\n",
    "idx = 336\n",
    "text_embed = train_transcript_data.iloc[idx]['text']\n",
    "audio_filename = train_transcript_data.iloc[idx]['filename']\n",
    "score = train_transcript_data.iloc[idx]['label']"
   ]
  },
  {
   "cell_type": "code",
   "execution_count": 12,
   "metadata": {},
   "outputs": [],
   "source": [
    "sample_transcript = text_embed\n",
    "sample_audio_path = \"dataset_shl/dataset/audios_train/audio_942.wav\"\n",
    "\n",
    "# Get embeddings\n",
    "audio_feat = get_audio_embedding(sample_audio_path)  # (768,)\n",
    "text_feat = get_text_embedding(sample_transcript)    # (768,)\n"
   ]
  },
  {
   "cell_type": "code",
   "execution_count": 13,
   "metadata": {},
   "outputs": [
    {
     "data": {
      "text/plain": [
       "(torch.Size([768]), torch.Size([768]))"
      ]
     },
     "execution_count": 13,
     "metadata": {},
     "output_type": "execute_result"
    }
   ],
   "source": [
    "audio_feat.shape,text_feat.shape"
   ]
  },
  {
   "cell_type": "markdown",
   "metadata": {},
   "source": [
    "### CUSTOM DATASET CLASS"
   ]
  },
  {
   "cell_type": "code",
   "execution_count": 87,
   "metadata": {},
   "outputs": [],
   "source": [
    "class AudioTextDataset(Dataset):\n",
    "    def __init__(self, data, tokenizer, task = 'train' ,max_len=128):\n",
    "        \"\"\"\n",
    "        data: Dataframe with columns: 'filename', 'text', 'label'\n",
    "        tokenizer: HuggingFace tokenizer (e.g., BERT)\n",
    "        \"\"\"\n",
    "        self.data = data\n",
    "        self.tokenizer = tokenizer\n",
    "        self.max_len = max_len\n",
    "        self.task = task\n",
    "\n",
    "    def __len__(self):\n",
    "        return len(self.data)\n",
    "\n",
    "    def __getitem__(self, idx):\n",
    "        entry = self.data.iloc[idx]\n",
    "        audio_path = f'dataset_shl/dataset/audios_{self.task}/{entry[\"filename\"]}'\n",
    "        transcript = entry['text']\n",
    "        target = 0\n",
    "        if (self.task!= 'test'):\n",
    "            target = torch.tensor(entry['label'], dtype=torch.float)\n",
    "\n",
    "        # Text embedding\n",
    "        text_feat = get_text_embedding(transcript)    # (768,)\n",
    "        \n",
    "        # Audio embedding\n",
    "        audio_feat = get_audio_embedding(audio_path)  # (768,)\n",
    "\n",
    "        return audio_feat, text_feat, target\n"
   ]
  },
  {
   "cell_type": "code",
   "execution_count": 15,
   "metadata": {},
   "outputs": [],
   "source": [
    "shuffled_data = train_transcript_data.sample(frac=1, random_state=42).reset_index(drop=True)\n",
    "train_data, val_data = train_test_split(shuffled_data, test_size=0.2, random_state=42)\n"
   ]
  },
  {
   "cell_type": "markdown",
   "metadata": {},
   "source": [
    "#### Precomute and save audio and text embeddings"
   ]
  },
  {
   "cell_type": "code",
   "execution_count": 17,
   "metadata": {},
   "outputs": [],
   "source": [
    "def precompute_and_save_embeddings(df, task='train', out_dir='cached_embeddings'):\n",
    "    os.makedirs(f\"{out_dir}/{task}/audio\", exist_ok=True)\n",
    "    os.makedirs(f\"{out_dir}/{task}/text\", exist_ok=True)\n",
    "\n",
    "    for i, row in tqdm(df.iterrows(), total=len(df)):\n",
    "        audio_path = f'dataset_shl/dataset/audios_{task}/{row[\"filename\"]}'\n",
    "        transcript = row['text']\n",
    "\n",
    "        audio_feat = get_audio_embedding(audio_path).cpu()\n",
    "        text_feat = get_text_embedding(transcript).cpu()\n",
    "\n",
    "        torch.save(audio_feat, f\"{out_dir}/{task}/audio/{row['filename']}.pt\")\n",
    "        torch.save(text_feat, f\"{out_dir}/{task}/text/{row['filename']}.pt\")\n"
   ]
  },
  {
   "cell_type": "code",
   "execution_count": 18,
   "metadata": {},
   "outputs": [],
   "source": [
    "# precompute_and_save_embeddings(train_data)\n",
    "# precompute_and_save_embeddings(val_data )"
   ]
  },
  {
   "cell_type": "code",
   "execution_count": 20,
   "metadata": {},
   "outputs": [],
   "source": [
    "class PrecomputedFusionDataset(Dataset):\n",
    "    def __init__(self, df, embedding_dir='cached_embeddings', task='train'):\n",
    "        self.df = df\n",
    "        self.audio_dir = f\"{embedding_dir}/{task}/audio\"\n",
    "        self.text_dir = f\"{embedding_dir}/{task}/text\"\n",
    "\n",
    "    def __len__(self):\n",
    "        return len(self.df)\n",
    "\n",
    "    def __getitem__(self, idx):\n",
    "        row = self.df.iloc[idx]\n",
    "        audio_feat = torch.load(f\"{self.audio_dir}/{row['filename']}.pt\")\n",
    "        text_feat = torch.load(f\"{self.text_dir}/{row['filename']}.pt\")\n",
    "        label = torch.tensor(row['label'], dtype=torch.float)\n",
    "        return audio_feat, text_feat, label\n"
   ]
  },
  {
   "cell_type": "code",
   "execution_count": 29,
   "metadata": {},
   "outputs": [],
   "source": [
    "train_ds_precomputed = PrecomputedFusionDataset(train_data, embedding_dir='cached_embeddings', task='train')\n",
    "val_ds_precomputed    = PrecomputedFusionDataset(val_data, embedding_dir='cached_embeddings', task='train')\n",
    "\n",
    "train_loader = DataLoader(train_ds_precomputed , batch_size=8, shuffle=True)\n",
    "val_loader   = DataLoader(val_ds_precomputed , batch_size=8, shuffle=False)\n"
   ]
  },
  {
   "cell_type": "code",
   "execution_count": null,
   "metadata": {},
   "outputs": [],
   "source": [
    "# audio_feat = torch.load(\"cached_embeddings/train/audio/audio_1008.wav.pt\")\n",
    "# audio_feat = torch.load(\"cached_embeddings/train/text/audio_1008.wav.pt\")\n",
    "# audio_feat.shape,audio_feat.shape"
   ]
  },
  {
   "cell_type": "code",
   "execution_count": 31,
   "metadata": {},
   "outputs": [],
   "source": [
    "def train_one_epoch(model, dataloader, optimizer, loss_fn, epoch):\n",
    "    model.train()\n",
    "    total_loss = 0\n",
    "\n",
    "    for audio_feat, text_feat, target in dataloader:\n",
    "        audio_feat, text_feat, target = audio_feat.to(device), text_feat.to(device), target.to(device)\n",
    "\n",
    "        optimizer.zero_grad()\n",
    "        output = model(audio_feat, text_feat).squeeze(1)  # (batch,)\n",
    "        loss = loss_fn(output, target)\n",
    "\n",
    "        loss.backward()\n",
    "        # torch.nn.utils.clip_grad_norm_(model.parameters(), 1.0)\n",
    "        optimizer.step()\n",
    "        total_loss += loss.item()\n",
    "\n",
    "    avg_loss = total_loss / len(dataloader)\n",
    "    print(f\"Epoch {epoch} | Train Loss: {avg_loss:.4f}\")\n",
    "    return avg_loss\n",
    "\n",
    "\n",
    "def validate_one_epoch(model, dataloader, loss_fn):\n",
    "    model.eval()\n",
    "    total_loss = 0\n",
    "\n",
    "    with torch.no_grad():\n",
    "        for audio_feat, text_feat, target in dataloader:\n",
    "            audio_feat, text_feat, target = audio_feat.to(device), text_feat.to(device), target.to(device)\n",
    "            output = model(audio_feat, text_feat).squeeze(1)\n",
    "\n",
    "            loss = loss_fn(output, target)\n",
    "            total_loss += loss.item()\n",
    "\n",
    "    avg_loss = total_loss / len(dataloader)\n",
    "    print(f\"Validation Loss: {avg_loss:.4f}\")\n",
    "    return avg_loss\n"
   ]
  },
  {
   "cell_type": "code",
   "execution_count": null,
   "metadata": {},
   "outputs": [],
   "source": [
    "\n",
    "# Model, optimizer, loss\n",
    "model = AudioTextFusionModel().to(DEVICE)\n",
    "optimizer = optim.AdamW(model.parameters(), lr=2e-5)\n",
    "loss_fn = torch.nn.MSELoss()\n",
    "\n"
   ]
  },
  {
   "cell_type": "code",
   "execution_count": null,
   "metadata": {
    "scrolled": true
   },
   "outputs": [],
   "source": [
    "# Training loop\n",
    "patience = 0\n",
    "patience_limit = 15\n",
    "best_val_loss = float('inf')\n",
    "epochs = 100\n",
    "for epoch in range(epochs):\n",
    "    train_loss = train_one_epoch(model, train_loader, optimizer, loss_fn, epoch)\n",
    "    val_loss = validate_one_epoch(model, val_loader, loss_fn)\n",
    "\n",
    "    if (val_loss<best_val_loss):\n",
    "        best_val_loss = val_loss\n",
    "        patience = 0\n",
    "        torch.save(model.state_dict(), f\"best_model_WaveLM_Bert_MLP.pt\")\n",
    "            # print(f\"Saved Best Model with RMSE: {best_rmse:.4f}\")\n",
    "    else:\n",
    "        patience = patience + 1\n",
    "        if(patience > patience_limit):\n",
    "            print(\"Early Stopping\")\n",
    "            break\n",
    "\n"
   ]
  },
  {
   "cell_type": "code",
   "execution_count": 90,
   "metadata": {},
   "outputs": [],
   "source": [
    "test_ds = AudioTextDataset(test_transcript_data, bert_tokenizer, task = 'test')\n",
    "test_loader = DataLoader(test_ds, batch_size=8, shuffle=False)"
   ]
  },
  {
   "cell_type": "code",
   "execution_count": 100,
   "metadata": {},
   "outputs": [],
   "source": [
    "def predict(model, test_loader):\n",
    "    model.eval()\n",
    "    predictions = []\n",
    "    with torch.no_grad():\n",
    "        for audio_feat, text_feat, _ in tqdm(test_loader):\n",
    "            audio_feat, text_feat = audio_feat.to(device), text_feat.to(device)\n",
    "            preds = model(audio_feat, text_feat).squeeze(1)\n",
    "            predictions.extend(preds.cpu().numpy())\n",
    "    return predictions\n"
   ]
  },
  {
   "cell_type": "code",
   "execution_count": 101,
   "metadata": {},
   "outputs": [
    {
     "name": "stderr",
     "output_type": "stream",
     "text": [
      "C:\\Users\\syedd\\AppData\\Local\\Temp\\ipykernel_75124\\3836587015.py:1: FutureWarning: You are using `torch.load` with `weights_only=False` (the current default value), which uses the default pickle module implicitly. It is possible to construct malicious pickle data which will execute arbitrary code during unpickling (See https://github.com/pytorch/pytorch/blob/main/SECURITY.md#untrusted-models for more details). In a future release, the default value for `weights_only` will be flipped to `True`. This limits the functions that could be executed during unpickling. Arbitrary objects will no longer be allowed to be loaded via this mode unless they are explicitly allowlisted by the user via `torch.serialization.add_safe_globals`. We recommend you start setting `weights_only=True` for any use case where you don't have full control of the loaded file. Please open an issue on GitHub for any issues related to this experimental feature.\n",
      "  model.load_state_dict(torch.load(\"best_model_new.pt\"))\n",
      "100%|██████████████████████████████████████████████████████████████████████████████████| 25/25 [08:13<00:00, 19.74s/it]\n"
     ]
    }
   ],
   "source": [
    "model.load_state_dict(torch.load(\"best_model_WaveLM_Bert_MLP.pt\"))\n",
    "pred = predict(model,test_loader)"
   ]
  },
  {
   "cell_type": "code",
   "execution_count": 102,
   "metadata": {},
   "outputs": [
    {
     "data": {
      "text/plain": [
       "195"
      ]
     },
     "execution_count": 102,
     "metadata": {},
     "output_type": "execute_result"
    }
   ],
   "source": [
    "len(pred)"
   ]
  },
  {
   "cell_type": "code",
   "execution_count": 103,
   "metadata": {},
   "outputs": [
    {
     "data": {
      "text/html": [
       "<div>\n",
       "<style scoped>\n",
       "    .dataframe tbody tr th:only-of-type {\n",
       "        vertical-align: middle;\n",
       "    }\n",
       "\n",
       "    .dataframe tbody tr th {\n",
       "        vertical-align: top;\n",
       "    }\n",
       "\n",
       "    .dataframe thead th {\n",
       "        text-align: right;\n",
       "    }\n",
       "</style>\n",
       "<table border=\"1\" class=\"dataframe\">\n",
       "  <thead>\n",
       "    <tr style=\"text-align: right;\">\n",
       "      <th></th>\n",
       "      <th>filename</th>\n",
       "      <th>label</th>\n",
       "    </tr>\n",
       "  </thead>\n",
       "  <tbody>\n",
       "    <tr>\n",
       "      <th>0</th>\n",
       "      <td>audio_706.wav</td>\n",
       "      <td>2.527446</td>\n",
       "    </tr>\n",
       "    <tr>\n",
       "      <th>1</th>\n",
       "      <td>audio_800.wav</td>\n",
       "      <td>2.128209</td>\n",
       "    </tr>\n",
       "    <tr>\n",
       "      <th>2</th>\n",
       "      <td>audio_68.wav</td>\n",
       "      <td>4.461556</td>\n",
       "    </tr>\n",
       "    <tr>\n",
       "      <th>3</th>\n",
       "      <td>audio_1267.wav</td>\n",
       "      <td>2.586688</td>\n",
       "    </tr>\n",
       "    <tr>\n",
       "      <th>4</th>\n",
       "      <td>audio_683.wav</td>\n",
       "      <td>2.601349</td>\n",
       "    </tr>\n",
       "  </tbody>\n",
       "</table>\n",
       "</div>"
      ],
      "text/plain": [
       "         filename     label\n",
       "0   audio_706.wav  2.527446\n",
       "1   audio_800.wav  2.128209\n",
       "2    audio_68.wav  4.461556\n",
       "3  audio_1267.wav  2.586688\n",
       "4   audio_683.wav  2.601349"
      ]
     },
     "execution_count": 103,
     "metadata": {},
     "output_type": "execute_result"
    }
   ],
   "source": [
    "df_test = pd.read_csv(\"dataset_shl/dataset/test.csv\")\n",
    "sub_df = pd.DataFrame()\n",
    "sub_df['filename'] = df_test['filename']\n",
    "sub_df['label'] = pred\n",
    "sub_df.to_csv(\"sub10.csv\" ,index = False)\n",
    "sub_df.head()"
   ]
  },
  {
   "cell_type": "markdown",
   "metadata": {},
   "source": [
    "#### Weighted Merges"
   ]
  },
  {
   "cell_type": "code",
   "execution_count": 206,
   "metadata": {},
   "outputs": [
    {
     "data": {
      "text/html": [
       "<div>\n",
       "<style scoped>\n",
       "    .dataframe tbody tr th:only-of-type {\n",
       "        vertical-align: middle;\n",
       "    }\n",
       "\n",
       "    .dataframe tbody tr th {\n",
       "        vertical-align: top;\n",
       "    }\n",
       "\n",
       "    .dataframe thead th {\n",
       "        text-align: right;\n",
       "    }\n",
       "</style>\n",
       "<table border=\"1\" class=\"dataframe\">\n",
       "  <thead>\n",
       "    <tr style=\"text-align: right;\">\n",
       "      <th></th>\n",
       "      <th>filename</th>\n",
       "      <th>label</th>\n",
       "    </tr>\n",
       "  </thead>\n",
       "  <tbody>\n",
       "    <tr>\n",
       "      <th>0</th>\n",
       "      <td>audio_706.wav</td>\n",
       "      <td>4.486119</td>\n",
       "    </tr>\n",
       "    <tr>\n",
       "      <th>1</th>\n",
       "      <td>audio_800.wav</td>\n",
       "      <td>2.264364</td>\n",
       "    </tr>\n",
       "    <tr>\n",
       "      <th>2</th>\n",
       "      <td>audio_68.wav</td>\n",
       "      <td>3.921659</td>\n",
       "    </tr>\n",
       "    <tr>\n",
       "      <th>3</th>\n",
       "      <td>audio_1267.wav</td>\n",
       "      <td>2.468159</td>\n",
       "    </tr>\n",
       "    <tr>\n",
       "      <th>4</th>\n",
       "      <td>audio_683.wav</td>\n",
       "      <td>2.256742</td>\n",
       "    </tr>\n",
       "  </tbody>\n",
       "</table>\n",
       "</div>"
      ],
      "text/plain": [
       "         filename     label\n",
       "0   audio_706.wav  4.486119\n",
       "1   audio_800.wav  2.264364\n",
       "2    audio_68.wav  3.921659\n",
       "3  audio_1267.wav  2.468159\n",
       "4   audio_683.wav  2.256742"
      ]
     },
     "execution_count": 206,
     "metadata": {},
     "output_type": "execute_result"
    }
   ],
   "source": [
    "sub3 = pd.read_csv(\"sub3.csv\")\n",
    "sub_3_plus_10 = weighted_merge(sub_df,sub3, 0.5)\n",
    "sub_3_plus_10.head()"
   ]
  },
  {
   "cell_type": "code",
   "execution_count": 208,
   "metadata": {},
   "outputs": [],
   "source": [
    "sub_3_plus_10.to_csv(\"sub3(1)_plus_10.csv\" ,index = False)"
   ]
  },
  {
   "cell_type": "code",
   "execution_count": null,
   "metadata": {},
   "outputs": [],
   "source": []
  }
 ],
 "metadata": {
  "kaggle": {
   "accelerator": "nvidiaTeslaT4",
   "dataSources": [
    {
     "databundleVersionId": 11694977,
     "sourceId": 97919,
     "sourceType": "competition"
    },
    {
     "datasetId": 7055528,
     "sourceId": 11284641,
     "sourceType": "datasetVersion"
    },
    {
     "datasetId": 7055669,
     "sourceId": 11284850,
     "sourceType": "datasetVersion"
    },
    {
     "datasetId": 7057801,
     "sourceId": 11287870,
     "sourceType": "datasetVersion"
    },
    {
     "datasetId": 7057874,
     "sourceId": 11287981,
     "sourceType": "datasetVersion"
    },
    {
     "datasetId": 7058111,
     "sourceId": 11288282,
     "sourceType": "datasetVersion"
    }
   ],
   "dockerImageVersionId": 30919,
   "isGpuEnabled": true,
   "isInternetEnabled": true,
   "language": "python",
   "sourceType": "notebook"
  },
  "kernelspec": {
   "display_name": "Python (hmenv3)",
   "language": "python",
   "name": "hmenv3"
  },
  "language_info": {
   "codemirror_mode": {
    "name": "ipython",
    "version": 3
   },
   "file_extension": ".py",
   "mimetype": "text/x-python",
   "name": "python",
   "nbconvert_exporter": "python",
   "pygments_lexer": "ipython3",
   "version": "3.11.11"
  }
 },
 "nbformat": 4,
 "nbformat_minor": 4
}
